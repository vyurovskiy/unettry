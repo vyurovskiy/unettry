{
 "cells": [
  {
   "cell_type": "code",
   "execution_count": null,
   "metadata": {},
   "outputs": [],
   "source": [
    "import sys\n",
    "import numpy as np\n",
    "import matplotlib.pyplot as plt\n",
    "from skimage.io import imshow\n",
    "import pandas as pd\n",
    "import os\n",
    "from PIL import Image"
   ]
  },
  {
   "cell_type": "code",
   "execution_count": null,
   "metadata": {},
   "outputs": [],
   "source": [
    "imageP='../Data/Originals/1.tif'\n",
    "maskP='../Data/Masks/1_M.tif'\n",
    "xmlP='../Data/Annotation/1.xml'\n",
    "objP='../Data/1.xml'"
   ]
  },
  {
   "cell_type": "code",
   "execution_count": null,
   "metadata": {},
   "outputs": [],
   "source": [
    "if 'C:/Program Files/ASAP 1.9/bin/' not in sys.path:\n",
    "    sys.path.append('C:/Program Files/ASAP 1.9/bin/')\n",
    "import multiresolutionimageinterface as mir\n",
    "reader = mir.MultiResolutionImageReader()\n",
    "image = reader.open(imageP)\n",
    "\n",
    "import openslide\n",
    "slide=openslide.OpenSlide(imageP)\n",
    "mask=openslide.OpenSlide(maskP)"
   ]
  },
  {
   "cell_type": "code",
   "execution_count": null,
   "metadata": {},
   "outputs": [],
   "source": [
    "print(slide.dimensions)\n",
    "print(mask.dimensions)"
   ]
  },
  {
   "cell_type": "code",
   "execution_count": null,
   "metadata": {},
   "outputs": [],
   "source": [
    "# thumbnail = slide.get_thumbnail((slide.dimensions[0], slide.dimensions[1]))\n",
    "# thumbnail_mask = mask.get_thumbnail((mask.dimensions[0], mask.dimensions[1])) "
   ]
  },
  {
   "cell_type": "code",
   "execution_count": null,
   "metadata": {},
   "outputs": [],
   "source": [
    "f, axes = plt.subplots(1, 2, figsize=(20, 10));\n",
    "ax = axes.ravel()\n",
    "ax[0].imshow(thumbnail);\n",
    "ax[0].set_title('Slide %dx%d' % thumbnail.size)\n",
    "ax[1].imshow(np.array(thumbnail_mask)[:,:,0], cmap='gray');\n",
    "ax[1].set_title('Truth %dx%d' % thumbnail_mask.size)\n",
    "f.suptitle('Slide & Truth Thumbnails (downsampled 256x)');"
   ]
  },
  {
   "cell_type": "code",
   "execution_count": null,
   "metadata": {},
   "outputs": [],
   "source": [
    "from skimage.filters import threshold_otsu\n",
    "\n",
    "img = np.array(thumbnail.convert('L')) # convert to grayscale\n",
    "thresh = threshold_otsu(img)\n",
    "binary = img > thresh"
   ]
  },
  {
   "cell_type": "code",
   "execution_count": null,
   "metadata": {},
   "outputs": [],
   "source": [
    "thresh"
   ]
  },
  {
   "cell_type": "code",
   "execution_count": null,
   "metadata": {},
   "outputs": [],
   "source": [
    "f, axes = plt.subplots(1, 3, figsize=(20, 10));\n",
    "ax = axes.ravel();\n",
    "ax[0].imshow(img, cmap='gray');\n",
    "ax[0].set_title('Original');\n",
    "ax[1].hist(img.ravel(), bins=256);\n",
    "ax[1].set_title('Histogram of pixel values');\n",
    "ax[1].axvline(thresh, color='r');\n",
    "ax[2].imshow(binary, cmap='gray');\n",
    "ax[2].set_title('Binary');"
   ]
  },
  {
   "cell_type": "code",
   "execution_count": null,
   "metadata": {},
   "outputs": [],
   "source": [
    "from openslide.deepzoom import DeepZoomGenerator \n",
    "\n",
    "tiles = DeepZoomGenerator(slide, tile_size=256, overlap=0, limit_bounds=False)\n",
    "tiles_truth = DeepZoomGenerator(mask, tile_size=256, overlap=0, limit_bounds=False)"
   ]
  },
  {
   "cell_type": "code",
   "execution_count": null,
   "metadata": {},
   "outputs": [],
   "source": []
  },
  {
   "cell_type": "code",
   "execution_count": null,
   "metadata": {},
   "outputs": [],
   "source": [
    "    if 'C:/Program Files/ASAP 1.9/bin/' not in sys.path:\n",
    "        sys.path.append('C:/Program Files/ASAP 1.9/bin/')\n",
    "    import multiresolutionimageinterface as mir\n",
    "    reader = mir.MultiResolutionImageReader()\n",
    "    for "
   ]
  },
  {
   "cell_type": "code",
   "execution_count": null,
   "metadata": {},
   "outputs": [],
   "source": []
  },
  {
   "cell_type": "code",
   "execution_count": null,
   "metadata": {},
   "outputs": [],
   "source": []
  },
  {
   "cell_type": "code",
   "execution_count": null,
   "metadata": {},
   "outputs": [],
   "source": []
  },
  {
   "cell_type": "code",
   "execution_count": null,
   "metadata": {},
   "outputs": [],
   "source": [
    "def get_dict_of_data(imagesP, masksP, annotationsP):\n",
    "    \n",
    "    listnames = [name.split('.tif')[0] for name in os.listdir(imagesP)]\n",
    "    l = []\n",
    "    for name in listnames:\n",
    "        d = {'imageP': imagesP+name+'.tif',\n",
    "             'maskP': masksP+name+'_M.tif',\n",
    "             'xmlP': annotationsP+name+'.xml'}\n",
    "        l.append(d)\n",
    "    return(l)"
   ]
  },
  {
   "cell_type": "code",
   "execution_count": null,
   "metadata": {},
   "outputs": [],
   "source": [
    "def get(dictofdata, patch_size, X, Y):\n",
    "    \n",
    "    if 'C:/Program Files/ASAP 1.9/bin/' not in sys.path:\n",
    "        sys.path.append('C:/Program Files/ASAP 1.9/bin/')\n",
    "    import multiresolutionimageinterface as mir\n",
    "    reader = mir.MultiResolutionImageReader()\n",
    "    for d in dictofdata:\n",
    "        slide=reader.open(d['imageP'])\n",
    "        mask=reader.open(d['maskP'])\n",
    "        slide_patch=slide.getFloatPatch(startX=X, startY=Y, width=patch_size[0], height=patch_size[1], level=0)\n",
    "        mask_patch=mask.getFloatPatch(startX=X, startY=Y, width=patch_size[0], height=patch_size[1], level=0)\n",
    "        \n",
    "    "
   ]
  },
  {
   "cell_type": "code",
   "execution_count": null,
   "metadata": {},
   "outputs": [],
   "source": []
  },
  {
   "cell_type": "code",
   "execution_count": null,
   "metadata": {},
   "outputs": [],
   "source": []
  },
  {
   "cell_type": "code",
   "execution_count": null,
   "metadata": {},
   "outputs": [],
   "source": [
    "s=get_dict_of_data('../Data/Originals/', '../Data/Masks/', '../Data/Annotations/')"
   ]
  },
  {
   "cell_type": "code",
   "execution_count": null,
   "metadata": {},
   "outputs": [],
   "source": []
  },
  {
   "cell_type": "code",
   "execution_count": null,
   "metadata": {},
   "outputs": [],
   "source": [
    "patch_size=(512,512)\n",
    "if 'C:/Program Files/ASAP 1.9/bin/' not in sys.path:\n",
    "    sys.path.append('C:/Program Files/ASAP 1.9/bin/')\n",
    "import multiresolutionimageinterface as mir\n",
    "reader = mir.MultiResolutionImageReader()\n",
    "d=get_dict_of_data('../Data/Originals/', '../Data/Masks/', '../Data/Annotations/')[0]\n",
    "slide=reader.open(d['imageP'])\n",
    "mask=reader.open(d['maskP'])\n",
    "slide_patch=slide.getFloatPatch(startX=23708, startY=45772, width=patch_size[0], height=patch_size[1], level=0)\n",
    "slide_patch=slide_patch.astype(np.uint8)\n",
    "slide_patch=Image.fromarray(slide_patch).convert('RGB')\n",
    "mask_patch=mask.getFloatPatch(startX=23708, startY=45772, width=patch_size[0], height=patch_size[1], level=0)\n",
    "mask_patch=mask_patch.astype(np.uint8)\n",
    "mask_patch=mask_patch[:,:,0]\n",
    "mask_patch = Image.fromarray(np.uint8(mask_patch)*255)\n",
    "mask_patch=mask_patch.convert('L')"
   ]
  },
  {
   "cell_type": "code",
   "execution_count": null,
   "metadata": {},
   "outputs": [],
   "source": [
    "slide_patch"
   ]
  },
  {
   "cell_type": "code",
   "execution_count": null,
   "metadata": {},
   "outputs": [],
   "source": [
    "import xml.etree.ElementTree as ET"
   ]
  },
  {
   "cell_type": "code",
   "execution_count": null,
   "metadata": {},
   "outputs": [],
   "source": [
    "tree1=ET.parse(xmlP)\n",
    "tree2=ET.parse(objP)"
   ]
  },
  {
   "cell_type": "code",
   "execution_count": null,
   "metadata": {},
   "outputs": [],
   "source": [
    "root1 = tree1.getroot()\n",
    "root2=tree2.getroot()"
   ]
  },
  {
   "cell_type": "code",
   "execution_count": null,
   "metadata": {},
   "outputs": [],
   "source": [
    "xy=[]\n",
    "for c in coord:\n",
    "    x=float(c['X'])\n",
    "    y=float(c['Y'])\n",
    "    xy.append((x,y))"
   ]
  },
  {
   "cell_type": "code",
   "execution_count": null,
   "metadata": {},
   "outputs": [],
   "source": [
    "from shapely.geometry import Polygon, MultiPolygon\n",
    "from shapely.geometry import Point\n",
    "from shapely.geometry import shape\n",
    "import random"
   ]
  },
  {
   "cell_type": "code",
   "execution_count": null,
   "metadata": {},
   "outputs": [],
   "source": [
    "def get_coordinates(xmlfile):\n",
    "    tree=ET.parse(xmlfile)\n",
    "    root=tree.getroot()\n",
    "    coord = [elem.attrib for elem in root.iter() if 'X' in elem.attrib]\n",
    "    xy=[]\n",
    "    for c in coord:\n",
    "        x=float(c['X'])\n",
    "        y=float(c['Y'])\n",
    "        xy.append((x,y))\n",
    "    return(xy)"
   ]
  },
  {
   "cell_type": "code",
   "execution_count": null,
   "metadata": {},
   "outputs": [],
   "source": [
    "xy1=get_coordinates(xmlP)\n",
    "xy2=get_coordinates(objP)"
   ]
  },
  {
   "cell_type": "code",
   "execution_count": null,
   "metadata": {},
   "outputs": [],
   "source": [
    "poly1 = Polygon(xy1)\n",
    "poly2 = Polygon(xy2)"
   ]
  },
  {
   "cell_type": "code",
   "execution_count": null,
   "metadata": {},
   "outputs": [],
   "source": [
    "def generate_random(number, polygon):\n",
    "    list_of_points = []\n",
    "    minx, miny, maxx, maxy = polygon.bounds\n",
    "    counter = 0\n",
    "    while counter < number:\n",
    "        pnt = Point(random.uniform(minx, maxx), random.uniform(miny, maxy))\n",
    "        if polygon.contains(pnt):\n",
    "            list_of_points.append(pnt)\n",
    "            counter += 1\n",
    "    return list_of_points"
   ]
  },
  {
   "cell_type": "code",
   "execution_count": null,
   "metadata": {},
   "outputs": [],
   "source": [
    "s=generate_random(1, poly2)"
   ]
  },
  {
   "cell_type": "code",
   "execution_count": null,
   "metadata": {},
   "outputs": [],
   "source": [
    "xx=int(s[0].coords[:][0][0])\n",
    "yy=int(s[0].coords[:][0][1])"
   ]
  },
  {
   "cell_type": "code",
   "execution_count": null,
   "metadata": {},
   "outputs": [],
   "source": [
    "xx"
   ]
  },
  {
   "cell_type": "code",
   "execution_count": null,
   "metadata": {},
   "outputs": [],
   "source": [
    "yy"
   ]
  },
  {
   "cell_type": "code",
   "execution_count": null,
   "metadata": {},
   "outputs": [],
   "source": [
    "\n",
    "xy1=get_coordinates(\"../Data/Annotation/1.xml\")\n",
    "xy2=get_coordinates(objP)\n",
    "poly1 = Polygon(xy1)\n",
    "poly2 = Polygon(xy2)\n",
    "s=generate_random(1, poly1)\n",
    "xx=int(s[0].coords[:][0][0])\n",
    "yy=int(s[0].coords[:][0][1])\n",
    "patch_size=(512,512)\n",
    "if 'C:/Program Files/ASAP 1.9/bin/' not in sys.path:\n",
    "    sys.path.append('C:/Program Files/ASAP 1.9/bin/')\n",
    "import multiresolutionimageinterface as mir\n",
    "reader = mir.MultiResolutionImageReader()\n",
    "d=get_dict_of_data('../Data/Originals/', '../Data/Masks/', '../Data/Annotations/')[0]\n",
    "slide=reader.open(d['imageP'])\n",
    "mask=reader.open(d['maskP'])\n",
    "slide_patch=slide.getFloatPatch(startX=xx, startY=yy, width=patch_size[0], height=patch_size[1], level=1)\n",
    "slide_patch=slide_patch.astype(np.uint8)\n",
    "slide_patch=Image.fromarray(slide_patch).convert('RGB')\n",
    "mask_patch=mask.getFloatPatch(startX=xx, startY=yy, width=patch_size[0], height=patch_size[1], level=1)\n",
    "mask_patch=mask_patch.astype(np.uint8)\n",
    "mask_patch=mask_patch[:,:,0]\n",
    "mask_patch = Image.fromarray(np.uint8(mask_patch)*255)\n",
    "mask_patch=mask_patch.convert('L')"
   ]
  },
  {
   "cell_type": "code",
   "execution_count": null,
   "metadata": {},
   "outputs": [],
   "source": [
    "slide_patch"
   ]
  },
  {
   "cell_type": "code",
   "execution_count": null,
   "metadata": {},
   "outputs": [],
   "source": [
    "mask_patch"
   ]
  },
  {
   "cell_type": "code",
   "execution_count": null,
   "metadata": {},
   "outputs": [],
   "source": [
    "d=get_dict_of_data('../Data/Originals/', '../Data/Masks/', '../Data/Annotation/')[0]\n",
    "yy=get_coordinates('../Data/1.xml')\n",
    "xx=get_coordinates(d['xmlP'])\n",
    "poly1=Polygon(yy)"
   ]
  },
  {
   "cell_type": "code",
   "execution_count": null,
   "metadata": {},
   "outputs": [],
   "source": [
    "poly1"
   ]
  },
  {
   "cell_type": "code",
   "execution_count": null,
   "metadata": {},
   "outputs": [],
   "source": [
    "s=generate_random(1, poly1)"
   ]
  },
  {
   "cell_type": "code",
   "execution_count": null,
   "metadata": {},
   "outputs": [],
   "source": [
    "xx=int(s[0].coords[:][0][0])\n",
    "yy=int(s[0].coords[:][0][1])"
   ]
  },
  {
   "cell_type": "code",
   "execution_count": 1,
   "metadata": {},
   "outputs": [
    {
     "ename": "NameError",
     "evalue": "name 'sys' is not defined",
     "output_type": "error",
     "traceback": [
      "\u001b[1;31m---------------------------------------------------------------------------\u001b[0m",
      "\u001b[1;31mNameError\u001b[0m                                 Traceback (most recent call last)",
      "\u001b[1;32m<ipython-input-1-ff35cbd57efe>\u001b[0m in \u001b[0;36m<module>\u001b[1;34m\u001b[0m\n\u001b[0;32m      1\u001b[0m \u001b[0mpatch_size\u001b[0m\u001b[1;33m=\u001b[0m\u001b[1;33m(\u001b[0m\u001b[1;36m512\u001b[0m\u001b[1;33m,\u001b[0m\u001b[1;36m512\u001b[0m\u001b[1;33m)\u001b[0m\u001b[1;33m\u001b[0m\u001b[1;33m\u001b[0m\u001b[0m\n\u001b[1;32m----> 2\u001b[1;33m \u001b[1;32mif\u001b[0m \u001b[1;34m'C:/Program Files/ASAP 1.9/bin/'\u001b[0m \u001b[1;32mnot\u001b[0m \u001b[1;32min\u001b[0m \u001b[0msys\u001b[0m\u001b[1;33m.\u001b[0m\u001b[0mpath\u001b[0m\u001b[1;33m:\u001b[0m\u001b[1;33m\u001b[0m\u001b[1;33m\u001b[0m\u001b[0m\n\u001b[0m\u001b[0;32m      3\u001b[0m     \u001b[0msys\u001b[0m\u001b[1;33m.\u001b[0m\u001b[0mpath\u001b[0m\u001b[1;33m.\u001b[0m\u001b[0mappend\u001b[0m\u001b[1;33m(\u001b[0m\u001b[1;34m'C:/Program Files/ASAP 1.9/bin/'\u001b[0m\u001b[1;33m)\u001b[0m\u001b[1;33m\u001b[0m\u001b[1;33m\u001b[0m\u001b[0m\n\u001b[0;32m      4\u001b[0m \u001b[1;32mimport\u001b[0m \u001b[0mmultiresolutionimageinterface\u001b[0m \u001b[1;32mas\u001b[0m \u001b[0mmir\u001b[0m\u001b[1;33m\u001b[0m\u001b[1;33m\u001b[0m\u001b[0m\n\u001b[0;32m      5\u001b[0m \u001b[0mreader\u001b[0m \u001b[1;33m=\u001b[0m \u001b[0mmir\u001b[0m\u001b[1;33m.\u001b[0m\u001b[0mMultiResolutionImageReader\u001b[0m\u001b[1;33m(\u001b[0m\u001b[1;33m)\u001b[0m\u001b[1;33m\u001b[0m\u001b[1;33m\u001b[0m\u001b[0m\n",
      "\u001b[1;31mNameError\u001b[0m: name 'sys' is not defined"
     ]
    }
   ],
   "source": [
    "patch_size=(512,512)\n",
    "if 'C:/Program Files/ASAP 1.9/bin/' not in sys.path:\n",
    "    sys.path.append('C:/Program Files/ASAP 1.9/bin/')\n",
    "import multiresolutionimageinterface as mir\n",
    "reader = mir.MultiResolutionImageReader()\n",
    "d=get_dict_of_data('../Data/Originals/', '../Data/Masks/', '../Data/Annotations/')[0]\n",
    "slide=reader.open(d['imageP'])\n",
    "mask=reader.open(d['maskP'])\n",
    "slide_patch=slide.getFloatPatch(startX=xx, startY=yy, width=patch_size[0], height=patch_size[1], level=1)\n",
    "slide_patch=slide_patch.astype(np.uint8)\n",
    "slide_patch=Image.fromarray(slide_patch).convert('RGB')\n",
    "mask_patch=mask.getFloatPatch(startX=xx, startY=yy, width=patch_size[0], height=patch_size[1], level=1)\n",
    "mask_patch=mask_patch.astype(np.uint8)\n",
    "mask_patch=mask_patch[:,:,0]\n",
    "mask_patch = Image.fromarray(np.uint8(mask_patch)*255)\n",
    "mask_patch=mask_patch.convert('L')"
   ]
  },
  {
   "cell_type": "code",
   "execution_count": null,
   "metadata": {},
   "outputs": [],
   "source": [
    "(xx, yy)"
   ]
  },
  {
   "cell_type": "code",
   "execution_count": null,
   "metadata": {},
   "outputs": [],
   "source": [
    "tree=ET.parse('../Data/1.xml')\n",
    "root=tree.getroot()\n",
    "annotations=root.find('Annotations')\n",
    "l=[]\n",
    "for i, annot in enumerate(annotations):\n",
    "    d=[]\n",
    "    coord=annot.find('Coordinates')\n",
    "    for c in coord:\n",
    "        d.append((int(float(c.attrib['X'])), int(float(c.attrib['Y']))))\n",
    "    l.append(d)"
   ]
  },
  {
   "cell_type": "code",
   "execution_count": null,
   "metadata": {},
   "outputs": [],
   "source": [
    "root.find('Annotations')[0].find('Coordinates')[0].attrib"
   ]
  },
  {
   "cell_type": "code",
   "execution_count": null,
   "metadata": {},
   "outputs": [],
   "source": [
    "a = l[0]\n",
    "b = l[1]\n",
    "\n",
    "\n",
    "multi1 = MultiPolygon([[ll,[]] for ll in l])"
   ]
  },
  {
   "cell_type": "code",
   "execution_count": null,
   "metadata": {},
   "outputs": [],
   "source": [
    "multi1"
   ]
  },
  {
   "cell_type": "code",
   "execution_count": null,
   "metadata": {},
   "outputs": [],
   "source": [
    "l=generate_random(100, multi1)"
   ]
  },
  {
   "cell_type": "code",
   "execution_count": null,
   "metadata": {},
   "outputs": [],
   "source": [
    "p=[]\n",
    "for i in range(len(l)):\n",
    "    p.append((int(l[i].coords[0][0]), int(l[i].coords[0][1])))"
   ]
  },
  {
   "cell_type": "code",
   "execution_count": null,
   "metadata": {},
   "outputs": [],
   "source": []
  },
  {
   "cell_type": "code",
   "execution_count": null,
   "metadata": {},
   "outputs": [],
   "source": [
    "import numpy as np\n",
    "import pandas as pd\n",
    "import xml.etree.ElementTree as ET\n",
    "from shapely.geometry import MultiPolygon\n",
    "import random\n",
    "import sys\n",
    "import os\n",
    "\n",
    "\n",
    "def get_list_of_data(imagesP, masksP, xmlsP):\n",
    "    listnames = (name.split('.tif')[0] for name in os.listdir(imagesP))\n",
    "    l=[{'imageP': imagesP+name+'.tif',\n",
    "        'maskP': masksP+name+'_M.tif',\n",
    "        'xmlCancerP': xmlsP+name+'.xml',\n",
    "        'xmlGroundP': xmlsP+name+'_G.xml'} for name in listnames]\n",
    "    return l\n",
    "\n",
    "\n",
    "def get_list_of_coordinates(xmlP):\n",
    "    root = ET.parse(xmlP).getroot()\n",
    "    annotations = root.find('Annotations')\n",
    "    d = []\n",
    "    for annot in annotations:\n",
    "        l = []\n",
    "        coord = annot.find('Coordinates')\n",
    "        for c in coord:\n",
    "            l.append((int(float(c.attrib['X'])), int(float(c.attrib['Y']))))\n",
    "# можно вставить условие с ограничением по площади полигона !!!!\n",
    "        d.append(l)\n",
    "\n",
    "    return d\n",
    "\n",
    "\n",
    "def get_multipolygon(list_of_coordinates):\n",
    "\n",
    "    return MultiPolygon([[l, []] for l in list_of_coordinates])\n",
    "\n",
    "\n",
    "def generate_random_point(polygon, number):\n",
    "    list_of_points = []\n",
    "    minx, miny, maxx, maxy = polygon.bounds\n",
    "    counter = 0\n",
    "    while counter < number:\n",
    "        pnt = Point(random.uniform(minx, maxx), random.uniform(miny, maxy))\n",
    "        if polygon.contains(pnt):\n",
    "            list_of_points.append(pnt)\n",
    "            counter += 1\n",
    "    p = []\n",
    "    for i in range(len(list_of_points)):\n",
    "        p.append((int(list_of_points[i].coords[0][0]), int(list_of_points[i].coords[0][1])))\n",
    "    return p\n",
    "\n",
    "def generate_random_data(list_of_data, patch_size, level):\n",
    "\n",
    "    if 'C:/Program Files/ASAP 1.9/bin/' not in sys.path:\n",
    "        sys.path.append('C:/Program Files/ASAP 1.9/bin/')\n",
    "    import multiresolutionimageinterface as mir\n",
    "    dataframe=pd.DataFrame(columns=['SlideP', 'MaskP', 'Coord', 'Label'])\n",
    "    reader = mir.MultiResolutionImageReader()\n",
    "\n",
    "    cancer_coordinates=get_list_of_coordinates(list_of_data[0]['xmlCancerP'])\n",
    "    ground_coordinates=get_list_of_coordinates(list_of_data[0]['xmlGroundP'])\n",
    "\n",
    "    cancer_multipolygon=get_multipolygon(cancer_coordinates)\n",
    "    ground_multipolygon=get_multipolygon(ground_coordinates)\n",
    "\n",
    "    cancer_points=generate_random_point(ground_multipolygon, 100)\n",
    "\n",
    "    slide=reader.open(list_of_data[0]['imageP']) #!!!!!!!\n",
    "    mask=reader.open(list_of_data[0]['maskP'])   #!!!!!!!\n",
    "\n",
    "    k1,k2=[], []\n",
    "\n",
    "    for xy in cancer_points:\n",
    "        slide_patch=slide.getFloatPatch(startX=xy[0], startY=xy[1], width=patch_size[0], height=patch_size[1], level=level)\n",
    "        slide_patch=slide_patch.astype(np.uint8)\n",
    "        slide_patch=Image.fromarray(slide_patch).convert('RGB')\n",
    "        mask_patch=mask.getFloatPatch(startX=xy[0], startY=xy[1], width=patch_size[0], height=patch_size[1], level=1)\n",
    "        mask_patch=mask_patch.astype(np.uint8)\n",
    "        mask_patch=mask_patch[:,:,0]\n",
    "        mask_patch = Image.fromarray(np.uint8(mask_patch)*255)\n",
    "        mask_patch=mask_patch.convert('L')   \n",
    "\n",
    "        k1.append(slide_patch)  \n",
    "        k2.append(mask_patch)\n",
    "\n",
    "    return(k1, k2)"
   ]
  },
  {
   "cell_type": "code",
   "execution_count": null,
   "metadata": {},
   "outputs": [],
   "source": [
    "list_of_data=get_list_of_data('../Data/Originals/', '../Data/Masks/', '../Data/Annotation/')\n",
    "patch_size=(512,512)\n",
    "level=1\n",
    "k1,k2=generate_random_data(list_of_data, patch_size, level)"
   ]
  },
  {
   "cell_type": "code",
   "execution_count": null,
   "metadata": {},
   "outputs": [],
   "source": [
    "i"
   ]
  },
  {
   "cell_type": "code",
   "execution_count": null,
   "metadata": {},
   "outputs": [],
   "source": [
    "i+=1\n",
    "k1[i]"
   ]
  },
  {
   "cell_type": "code",
   "execution_count": null,
   "metadata": {},
   "outputs": [],
   "source": [
    "k2[i]"
   ]
  },
  {
   "cell_type": "code",
   "execution_count": null,
   "metadata": {},
   "outputs": [],
   "source": [
    "k1[6].getcolors()"
   ]
  },
  {
   "cell_type": "code",
   "execution_count": null,
   "metadata": {},
   "outputs": [],
   "source": [
    "k2[55].getcolors()"
   ]
  },
  {
   "cell_type": "code",
   "execution_count": null,
   "metadata": {},
   "outputs": [],
   "source": [
    "k2[6]"
   ]
  },
  {
   "cell_type": "code",
   "execution_count": null,
   "metadata": {},
   "outputs": [],
   "source": []
  },
  {
   "cell_type": "code",
   "execution_count": null,
   "metadata": {},
   "outputs": [],
   "source": []
  }
 ],
 "metadata": {
  "kernelspec": {
   "display_name": "Python 3",
   "language": "python",
   "name": "python3"
  },
  "language_info": {
   "codemirror_mode": {
    "name": "ipython",
    "version": 3
   },
   "file_extension": ".py",
   "mimetype": "text/x-python",
   "name": "python",
   "nbconvert_exporter": "python",
   "pygments_lexer": "ipython3",
   "version": "3.6.7"
  }
 },
 "nbformat": 4,
 "nbformat_minor": 2
}
