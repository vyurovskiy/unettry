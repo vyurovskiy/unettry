{
 "cells": [
  {
   "cell_type": "code",
   "execution_count": 557,
   "metadata": {},
   "outputs": [],
   "source": [
    "import os\n",
    "from collections import namedtuple, defaultdict\n",
    "import xml.etree.ElementTree as ET\n",
    "from shapely.geometry import MultiPolygon, Point, Polygon\n",
    "import numpy as np\n",
    "from threading import local, get_ident\n",
    "from time import time\n",
    "import random"
   ]
  },
  {
   "cell_type": "code",
   "execution_count": 558,
   "metadata": {},
   "outputs": [],
   "source": [
    "_Slide=namedtuple('_Slide', ['slide_path', 'mask_path', 'xml_tissue', 'xml_cancer'])\n",
    "_PolygonRaw = namedtuple('_Polygon', ['slide_path', 'coord'])\n",
    "_Polygon=namedtuple('_Polygon', ['slide_path', 'area', 'polygon'])\n",
    "_Data=namedtuple('_Data', ['slide_path', 'mask_path', 'coord', 'whiteness'])"
   ]
  },
  {
   "cell_type": "code",
   "execution_count": 559,
   "metadata": {},
   "outputs": [],
   "source": [
    "def get_files(folder_with_data):\n",
    "    slides_path=folder_with_data+'slides/'\n",
    "    masks_path=folder_with_data+'masks/'\n",
    "    xmls_path=folder_with_data+'annotations/'\n",
    "    for name in os.listdir(slides_path):\n",
    "        yield _Slide(slides_path+name, \n",
    "                     masks_path+name.split('.')[0]+'_M.tif', \n",
    "                     xmls_path+name.split('.')[0]+'_G.xml',\n",
    "                     xmls_path+name.split('.')[0]+'.xml')"
   ]
  },
  {
   "cell_type": "code",
   "execution_count": 560,
   "metadata": {},
   "outputs": [],
   "source": [
    "def get_coordinate(_list, cancer=True):\n",
    "    for el in _list:\n",
    "        if cancer:\n",
    "            xml_file = el.xml_cancer\n",
    "        else:\n",
    "            xml_file=el.xml_tissue\n",
    "        for ann in ET.parse(xml_file).getroot().find('Annotations'):\n",
    "            yx=[(int(float(coord.attrib['Y'])), int(float(coord.attrib['X']))) for coord in ann.find('Coordinates').findall('Coordinate')]\n",
    "            yield _PolygonRaw(el.slide_path, yx)"
   ]
  },
  {
   "cell_type": "code",
   "execution_count": 561,
   "metadata": {},
   "outputs": [],
   "source": [
    "def clear_small_polygon(_list):\n",
    "    for el in _list:\n",
    "        p=Polygon(el.coord)\n",
    "        area=p.area\n",
    "        if area > 1024*1024:\n",
    "            yield _Polygon(el.slide_path, area, p)"
   ]
  },
  {
   "cell_type": "code",
   "execution_count": 562,
   "metadata": {},
   "outputs": [],
   "source": [
    "def get_dict(source_files, cancer=True):\n",
    "    d=defaultdict(list)\n",
    "    for path, area, poly in clear_small_polygon(get_coordinate(source_files, cancer=cancer)):\n",
    "        d[path].append((area, poly))\n",
    "    return d"
   ]
  },
  {
   "cell_type": "code",
   "execution_count": 563,
   "metadata": {},
   "outputs": [],
   "source": [
    "def to_multi(_list):\n",
    "    return MultiPolygon([[p.exterior.coords, []] for _, p in _list]).buffer(0)"
   ]
  },
  {
   "cell_type": "code",
   "execution_count": 832,
   "metadata": {},
   "outputs": [],
   "source": [
    "def subtraction(cancer, tissue):\n",
    "    for k in (set(cancer) & set(tissue)):\n",
    "        gt = tissue[k]\n",
    "        canc = cancer[k]\n",
    "        mp = to_multi(canc)\n",
    "        tmp = ((poly.buffer(5) - mp) for _, poly in gt)\n",
    "        tissue[k] = [(p.area, p) for p in tmp]\n",
    "    return (cancer, tissue)"
   ]
  },
  {
   "cell_type": "code",
   "execution_count": 833,
   "metadata": {},
   "outputs": [],
   "source": [
    "_TLS = local()\n",
    "def tls_prng():\n",
    "    # pylint: disable=no-member\n",
    "    try:\n",
    "        return _TLS.prng\n",
    "    except AttributeError:\n",
    "        _TLS.prng = np.random.RandomState(\n",
    "            (get_ident() + np.random.get_state()[1][0]) % 2**32\n",
    "        )\n",
    "        return _TLS.prng"
   ]
  },
  {
   "cell_type": "code",
   "execution_count": 834,
   "metadata": {},
   "outputs": [],
   "source": [
    "def get_random_points(polygon, number):\n",
    "    prng = tls_prng()\n",
    "\n",
    "    if not polygon.area:\n",
    "        return\n",
    "\n",
    "    minx, miny, maxx, maxy = polygon.bounds\n",
    "    for _ in range(number):\n",
    "        while True:\n",
    "            p = Point(prng.uniform(minx, maxx), prng.uniform(miny, maxy))\n",
    "            if polygon.contains(p):\n",
    "                yield (int(p.coords[0][0]), int(p.coords[0][1]))\n",
    "                break"
   ]
  },
  {
   "cell_type": "code",
   "execution_count": 835,
   "metadata": {},
   "outputs": [],
   "source": [
    "files=list(get_files('../data/'))\n",
    "cancer=get_dict(files, cancer=True)\n",
    "tissue=get_dict(files, cancer=False)\n",
    "cancer, tissue=subtraction(cancer, tissue)"
   ]
  },
  {
   "cell_type": "code",
   "execution_count": 996,
   "metadata": {},
   "outputs": [],
   "source": [
    "# _Data=namedtuple('_Data', ['slide_path', 'mask_path', 'coord', 'whiteness'])"
   ]
  },
  {
   "cell_type": "code",
   "execution_count": null,
   "metadata": {},
   "outputs": [],
   "source": []
  },
  {
   "cell_type": "code",
   "execution_count": 838,
   "metadata": {},
   "outputs": [],
   "source": [
    "rnd_point=list(get_random_points(cancer['../data/slides/32.tif'][2][1], 100))"
   ]
  },
  {
   "cell_type": "code",
   "execution_count": 839,
   "metadata": {},
   "outputs": [],
   "source": [
    "r=rnd_point"
   ]
  },
  {
   "cell_type": "code",
   "execution_count": 840,
   "metadata": {},
   "outputs": [
    {
     "name": "stdout",
     "output_type": "stream",
     "text": [
      "[(81878, 35479), (76483, 40990), (76680, 39279), (74765, 40948), (80709, 34496), (84468, 37072), (84119, 37838), (78378, 31728), (80293, 39678), (86673, 33753), (73748, 39493), (79253, 37144), (85803, 34714), (81252, 36645), (74422, 39047), (83102, 35218), (74699, 36997), (78040, 39917), (86390, 35540), (72128, 40797), (83720, 31349), (82482, 33423), (81969, 29075), (79950, 33395), (80448, 38258), (76569, 40456), (77106, 30760), (84484, 35001), (76532, 38953), (84014, 36275), (82329, 34971), (87487, 35095), (72175, 41166), (85891, 30120), (83168, 37635), (86724, 33642), (78698, 38688), (78916, 34743), (83792, 32552), (77400, 36395), (78137, 36832), (77019, 32427), (76347, 35533), (84613, 31491), (80381, 35881), (81005, 37406), (84349, 34946), (81197, 33694), (79440, 38996), (78842, 34214), (79602, 31940), (87319, 34470), (84525, 36169), (72020, 40381), (79578, 31512), (81818, 34073), (83026, 31352), (79565, 34488), (77832, 36254), (85898, 32854), (80808, 34486), (76426, 36054), (84072, 31125), (84047, 37014), (84830, 30129), (80833, 36098), (84455, 35745), (79055, 40294), (77342, 33803), (80301, 34825), (76824, 34276), (82006, 38570), (83263, 36210), (81671, 34501), (76913, 40664), (83285, 36326), (79532, 37111), (83593, 33513), (80988, 29845), (74039, 40843), (82580, 34951), (72124, 40467), (78477, 39539), (79219, 29276), (82914, 32418), (79201, 33263), (74544, 38614), (80683, 31078), (76538, 32594), (86365, 31981), (85673, 34207), (79651, 29802), (81878, 31661), (85157, 36989), (82283, 38410), (84784, 37473), (74296, 37857), (76219, 40148), (86972, 34276), (86837, 30303)]\n"
     ]
    }
   ],
   "source": [
    "print(r)\n",
    "i=0"
   ]
  },
  {
   "cell_type": "code",
   "execution_count": 1088,
   "metadata": {},
   "outputs": [],
   "source": [
    "import sys\n",
    "from skimage.io import imshow\n",
    "from PIL import Image\n",
    "patch_size=(512,512)\n",
    "zoom=2\n",
    "i+=1\n",
    "if 'D:\\\\ACDC_LUNG_HISTOPATHOLOGY\\\\ASAP 1.9\\\\bin' not in sys.path:\n",
    "    sys.path.append('D:\\\\ACDC_LUNG_HISTOPATHOLOGY\\\\ASAP 1.9\\\\bin')\n",
    "import multiresolutionimageinterface as mir\n",
    "reader = mir.MultiResolutionImageReader()\n",
    "\n",
    "mask = reader.open('../data/masks/50A_M.tif')\n",
    "slide =reader.open('../data/slides/50A.tif')\n",
    "mask_patch=mask.getUCharPatch(startY=140386, startX=32869, height=patch_size[0], width=patch_size[1], level=zoom)\n",
    "slide_patch=slide.getUCharPatch(startY=140386, startX=32869, height=patch_size[0], width=patch_size[1], level=zoom)"
   ]
  },
  {
   "cell_type": "code",
   "execution_count": 1089,
   "metadata": {},
   "outputs": [
    {
     "data": {
      "text/plain": [
       "<matplotlib.image.AxesImage at 0x28ff40609e8>"
      ]
     },
     "execution_count": 1089,
     "metadata": {},
     "output_type": "execute_result"
    },
    {
     "data": {
      "image/png": "[encoded data removed]",
      "text/plain": [
       "<Figure size 432x288 with 1 Axes>"
      ]
     },
     "metadata": {
      "needs_background": "light"
     },
     "output_type": "display_data"
    }
   ],
   "source": [
    "imshow(slide_patch)"
   ]
  },
  {
   "cell_type": "code",
   "execution_count": 1090,
   "metadata": {},
   "outputs": [
    {
     "data": {
      "text/plain": [
       "<matplotlib.image.AxesImage at 0x28ff4c09da0>"
      ]
     },
     "execution_count": 1090,
     "metadata": {},
     "output_type": "execute_result"
    },
    {
     "data": {
      "image/png": "[encoded data removed]",
      "text/plain": [
       "<Figure size 432x288 with 1 Axes>"
      ]
     },
     "metadata": {
      "needs_background": "light"
     },
     "output_type": "display_data"
    }
   ],
   "source": [
    "imshow(mask_patch[:,:,0]*255)"
   ]
  },
  {
   "cell_type": "code",
   "execution_count": null,
   "metadata": {},
   "outputs": [],
   "source": []
  },
  {
   "cell_type": "code",
   "execution_count": null,
   "metadata": {},
   "outputs": [],
   "source": []
  },
  {
   "cell_type": "code",
   "execution_count": null,
   "metadata": {},
   "outputs": [],
   "source": []
  },
  {
   "cell_type": "code",
   "execution_count": 1149,
   "metadata": {},
   "outputs": [],
   "source": [
    "_Data=namedtuple('_Data', ['slide_path', 'mask_path', 'coord', 'whiteness'])\n",
    "nbpoints=2\n",
    "patch_size=(512,512)\n",
    "zoom=1\n",
    "\n",
    "\n",
    "def get_data_unsafe(cancer, tissue, patch_size, zoom, nbpoints):\n",
    "    np.random.seed(int(time() * 1000) % 2**32)\n",
    "    reader = mir.MultiResolutionImageReader()\n",
    "    for _ in range(nbpoints):\n",
    "        rnd_cancer_slide=random.choice(list(cancer.keys()))\n",
    "        rnd_tissue_slide=random.choice(list(tissue.keys()))\n",
    "\n",
    "        rnd_cancer_poly=random.choice(cancer[rnd_cancer_slide])[1]\n",
    "        rnd_tissue_poly=random.choice(tissue[rnd_tissue_slide])[1]\n",
    "\n",
    "        rnd_cancer_point=list(get_random_points(rnd_cancer_poly, 1))\n",
    "        rnd_tissue_point=list(get_random_points(rnd_tissue_poly, 1))\n",
    "\n",
    "        for path, yx in zip((rnd_cancer_slide, rnd_tissue_slide), rnd_cancer_point+rnd_tissue_point):\n",
    "            mask_path=path.replace('slides', 'masks').replace('.tif','_M.tif')\n",
    "            mask=reader.open(mask_path)\n",
    "            mask_patch=mask.getUCharPatch(startY=yx[0], startX=yx[1], height=patch_size[0], width=patch_size[1], level=zoom)\n",
    "            mask.close()\n",
    "            mask_patch=mask_patch[:,:,0]*255\n",
    "            mask_patch=mask_patch.astype(bool)\n",
    "            values, counts = np.unique(mask_patch, return_counts=True)\n",
    "            yield _Data(path, mask_path, yx, sum(values * counts) / sum(counts) * 100)"
   ]
  },
  {
   "cell_type": "code",
   "execution_count": 1163,
   "metadata": {},
   "outputs": [],
   "source": [
    "data=list(get_data_unsafe(cancer, tissue, patch_size, zoom, 100))"
   ]
  },
  {
   "cell_type": "code",
   "execution_count": 1164,
   "metadata": {},
   "outputs": [
    {
     "data": {
      "text/plain": [
       "[_Data(slide_path='../data/slides/9A.tif', mask_path='../data/masks/9A_M.tif', coord=(73269, 41749), whiteness=78.39279174804688),\n",
       " _Data(slide_path='../data/slides/16.tif', mask_path='../data/masks/16_M.tif', coord=(62332, 40956), whiteness=1.446533203125),\n",
       " _Data(slide_path='../data/slides/22A.tif', mask_path='../data/masks/22A_M.tif', coord=(87229, 51492), whiteness=11.719131469726562),\n",
       " _Data(slide_path='../data/slides/5A.tif', mask_path='../data/masks/5A_M.tif', coord=(145876, 11523), whiteness=98.66485595703125),\n",
       " _Data(slide_path='../data/slides/18A.tif', mask_path='../data/masks/18A_M.tif', coord=(105321, 45383), whiteness=59.25941467285156),\n",
       " _Data(slide_path='../data/slides/48A.tif', mask_path='../data/masks/48A_M.tif', coord=(137310, 50595), whiteness=34.27276611328125),\n",
       " _Data(slide_path='../data/slides/34.tif', mask_path='../data/masks/34_M.tif', coord=(22040, 61754), whiteness=6.5143585205078125),\n",
       " _Data(slide_path='../data/slides/49A.tif', mask_path='../data/masks/49A_M.tif', coord=(125910, 13473), whiteness=1.0066986083984375),\n",
       " _Data(slide_path='../data/slides/48A.tif', mask_path='../data/masks/48A_M.tif', coord=(139673, 47420), whiteness=22.206497192382812),\n",
       " _Data(slide_path='../data/slides/34.tif', mask_path='../data/masks/34_M.tif', coord=(41510, 41807), whiteness=0.0),\n",
       " _Data(slide_path='../data/slides/94.tif', mask_path='../data/masks/94_M.tif', coord=(105620, 54616), whiteness=0.0537872314453125),\n",
       " _Data(slide_path='../data/slides/2A.tif', mask_path='../data/masks/2A_M.tif', coord=(119241, 12018), whiteness=80.865478515625),\n",
       " _Data(slide_path='../data/slides/11.tif', mask_path='../data/masks/11_M.tif', coord=(105253, 28364), whiteness=56.771087646484375),\n",
       " _Data(slide_path='../data/slides/4A.tif', mask_path='../data/masks/4A_M.tif', coord=(73166, 49379), whiteness=0.0),\n",
       " _Data(slide_path='../data/slides/41A.tif', mask_path='../data/masks/41A_M.tif', coord=(82158, 5111), whiteness=52.44026184082031),\n",
       " _Data(slide_path='../data/slides/93.tif', mask_path='../data/masks/93_M.tif', coord=(55314, 21520), whiteness=2.735137939453125),\n",
       " _Data(slide_path='../data/slides/16A.tif', mask_path='../data/masks/16A_M.tif', coord=(80364, 12823), whiteness=45.769500732421875),\n",
       " _Data(slide_path='../data/slides/86.tif', mask_path='../data/masks/86_M.tif', coord=(61825, 48425), whiteness=7.57598876953125),\n",
       " _Data(slide_path='../data/slides/83.tif', mask_path='../data/masks/83_M.tif', coord=(102099, 35736), whiteness=100.0),\n",
       " _Data(slide_path='../data/slides/34A.tif', mask_path='../data/masks/34A_M.tif', coord=(58243, 19683), whiteness=0.0),\n",
       " _Data(slide_path='../data/slides/7.tif', mask_path='../data/masks/7_M.tif', coord=(107573, 57948), whiteness=47.180938720703125),\n",
       " _Data(slide_path='../data/slides/45.tif', mask_path='../data/masks/45_M.tif', coord=(89402, 24189), whiteness=74.32441711425781),\n",
       " _Data(slide_path='../data/slides/11A.tif', mask_path='../data/masks/11A_M.tif', coord=(134404, 12910), whiteness=31.845474243164062),\n",
       " _Data(slide_path='../data/slides/25A.tif', mask_path='../data/masks/25A_M.tif', coord=(98256, 24059), whiteness=0.0),\n",
       " _Data(slide_path='../data/slides/4.tif', mask_path='../data/masks/4_M.tif', coord=(110767, 22729), whiteness=67.51785278320312),\n",
       " _Data(slide_path='../data/slides/45.tif', mask_path='../data/masks/45_M.tif', coord=(76048, 36963), whiteness=0.0),\n",
       " _Data(slide_path='../data/slides/22A.tif', mask_path='../data/masks/22A_M.tif', coord=(86882, 51830), whiteness=5.8849334716796875),\n",
       " _Data(slide_path='../data/slides/40.tif', mask_path='../data/masks/40_M.tif', coord=(123484, 67695), whiteness=28.91082763671875),\n",
       " _Data(slide_path='../data/slides/63.tif', mask_path='../data/masks/63_M.tif', coord=(25202, 37725), whiteness=64.18228149414062),\n",
       " _Data(slide_path='../data/slides/47A.tif', mask_path='../data/masks/47A_M.tif', coord=(51497, 19247), whiteness=0.0),\n",
       " _Data(slide_path='../data/slides/22.tif', mask_path='../data/masks/22_M.tif', coord=(49362, 61626), whiteness=73.00872802734375),\n",
       " _Data(slide_path='../data/slides/59.tif', mask_path='../data/masks/59_M.tif', coord=(19732, 40775), whiteness=0.0),\n",
       " _Data(slide_path='../data/slides/54.tif', mask_path='../data/masks/54_M.tif', coord=(149121, 50077), whiteness=47.67036437988281),\n",
       " _Data(slide_path='../data/slides/11A.tif', mask_path='../data/masks/11A_M.tif', coord=(132470, 13905), whiteness=3.0117034912109375),\n",
       " _Data(slide_path='../data/slides/11.tif', mask_path='../data/masks/11_M.tif', coord=(104390, 27310), whiteness=47.67723083496094),\n",
       " _Data(slide_path='../data/slides/62.tif', mask_path='../data/masks/62_M.tif', coord=(128212, 41073), whiteness=0.0),\n",
       " _Data(slide_path='../data/slides/99.tif', mask_path='../data/masks/99_M.tif', coord=(80323, 19286), whiteness=43.05267333984375),\n",
       " _Data(slide_path='../data/slides/98.tif', mask_path='../data/masks/98_M.tif', coord=(94289, 29255), whiteness=0.0),\n",
       " _Data(slide_path='../data/slides/57.tif', mask_path='../data/masks/57_M.tif', coord=(65279, 46281), whiteness=19.15740966796875),\n",
       " _Data(slide_path='../data/slides/24.tif', mask_path='../data/masks/24_M.tif', coord=(71962, 49464), whiteness=33.02192687988281),\n",
       " _Data(slide_path='../data/slides/23A.tif', mask_path='../data/masks/23A_M.tif', coord=(66927, 35511), whiteness=74.46327209472656),\n",
       " _Data(slide_path='../data/slides/30.tif', mask_path='../data/masks/30_M.tif', coord=(57683, 39666), whiteness=45.60508728027344),\n",
       " _Data(slide_path='../data/slides/95.tif', mask_path='../data/masks/95_M.tif', coord=(50857, 31715), whiteness=49.91264343261719),\n",
       " _Data(slide_path='../data/slides/34.tif', mask_path='../data/masks/34_M.tif', coord=(21578, 57892), whiteness=0.0),\n",
       " _Data(slide_path='../data/slides/6.tif', mask_path='../data/masks/6_M.tif', coord=(57645, 31973), whiteness=69.16389465332031),\n",
       " _Data(slide_path='../data/slides/41.tif', mask_path='../data/masks/41_M.tif', coord=(66191, 42433), whiteness=0.0),\n",
       " _Data(slide_path='../data/slides/50A.tif', mask_path='../data/masks/50A_M.tif', coord=(133544, 28670), whiteness=56.62689208984375),\n",
       " _Data(slide_path='../data/slides/85.tif', mask_path='../data/masks/85_M.tif', coord=(50980, 19579), whiteness=0.0),\n",
       " _Data(slide_path='../data/slides/28.tif', mask_path='../data/masks/28_M.tif', coord=(83363, 50146), whiteness=65.61241149902344),\n",
       " _Data(slide_path='../data/slides/55.tif', mask_path='../data/masks/55_M.tif', coord=(26907, 63657), whiteness=0.0),\n",
       " _Data(slide_path='../data/slides/29.tif', mask_path='../data/masks/29_M.tif', coord=(73892, 38038), whiteness=51.78375244140625),\n",
       " _Data(slide_path='../data/slides/99.tif', mask_path='../data/masks/99_M.tif', coord=(86518, 15666), whiteness=0.0),\n",
       " _Data(slide_path='../data/slides/50.tif', mask_path='../data/masks/50_M.tif', coord=(62939, 13647), whiteness=42.85621643066406),\n",
       " _Data(slide_path='../data/slides/29.tif', mask_path='../data/masks/29_M.tif', coord=(47205, 42780), whiteness=0.0),\n",
       " _Data(slide_path='../data/slides/46.tif', mask_path='../data/masks/46_M.tif', coord=(111801, 23145), whiteness=100.0),\n",
       " _Data(slide_path='../data/slides/69.tif', mask_path='../data/masks/69_M.tif', coord=(47610, 40691), whiteness=0.0),\n",
       " _Data(slide_path='../data/slides/32.tif', mask_path='../data/masks/32_M.tif', coord=(74276, 32957), whiteness=14.023590087890625),\n",
       " _Data(slide_path='../data/slides/50A.tif', mask_path='../data/masks/50A_M.tif', coord=(140071, 33142), whiteness=0.0),\n",
       " _Data(slide_path='../data/slides/16A.tif', mask_path='../data/masks/16A_M.tif', coord=(97429, 15122), whiteness=60.161590576171875),\n",
       " _Data(slide_path='../data/slides/65.tif', mask_path='../data/masks/65_M.tif', coord=(61261, 54685), whiteness=11.261749267578125),\n",
       " _Data(slide_path='../data/slides/36.tif', mask_path='../data/masks/36_M.tif', coord=(91941, 39528), whiteness=95.15647888183594),\n",
       " _Data(slide_path='../data/slides/48.tif', mask_path='../data/masks/48_M.tif', coord=(106395, 46336), whiteness=0.0),\n",
       " _Data(slide_path='../data/slides/56.tif', mask_path='../data/masks/56_M.tif', coord=(63264, 34304), whiteness=59.6588134765625),\n",
       " _Data(slide_path='../data/slides/41A.tif', mask_path='../data/masks/41A_M.tif', coord=(93193, 14948), whiteness=0.0),\n",
       " _Data(slide_path='../data/slides/16A.tif', mask_path='../data/masks/16A_M.tif', coord=(77626, 11567), whiteness=100.0),\n",
       " _Data(slide_path='../data/slides/30A.tif', mask_path='../data/masks/30A_M.tif', coord=(25668, 58849), whiteness=0.0),\n",
       " _Data(slide_path='../data/slides/66.tif', mask_path='../data/masks/66_M.tif', coord=(84720, 34929), whiteness=100.0),\n",
       " _Data(slide_path='../data/slides/7A.tif', mask_path='../data/masks/7A_M.tif', coord=(57492, 25477), whiteness=0.0),\n",
       " _Data(slide_path='../data/slides/67.tif', mask_path='../data/masks/67_M.tif', coord=(53988, 25961), whiteness=100.0),\n",
       " _Data(slide_path='../data/slides/13A.tif', mask_path='../data/masks/13A_M.tif', coord=(78708, 46776), whiteness=0.0),\n",
       " _Data(slide_path='../data/slides/22.tif', mask_path='../data/masks/22_M.tif', coord=(50119, 35429), whiteness=93.609619140625),\n",
       " _Data(slide_path='../data/slides/85.tif', mask_path='../data/masks/85_M.tif', coord=(51781, 41904), whiteness=43.140411376953125),\n",
       " _Data(slide_path='../data/slides/27.tif', mask_path='../data/masks/27_M.tif', coord=(51331, 25518), whiteness=92.09022521972656),\n",
       " _Data(slide_path='../data/slides/37.tif', mask_path='../data/masks/37_M.tif', coord=(113976, 44811), whiteness=11.2945556640625),\n",
       " _Data(slide_path='../data/slides/62.tif', mask_path='../data/masks/62_M.tif', coord=(87024, 82816), whiteness=100.0),\n",
       " _Data(slide_path='../data/slides/17A.tif', mask_path='../data/masks/17A_M.tif', coord=(103579, 30894), whiteness=0.005340576171875),\n",
       " _Data(slide_path='../data/slides/6A.tif', mask_path='../data/masks/6A_M.tif', coord=(134343, 32983), whiteness=100.0),\n",
       " _Data(slide_path='../data/slides/48A.tif', mask_path='../data/masks/48A_M.tif', coord=(139233, 51297), whiteness=7.1285247802734375),\n",
       " _Data(slide_path='../data/slides/90.tif', mask_path='../data/masks/90_M.tif', coord=(124400, 47804), whiteness=53.95164489746094),\n",
       " _Data(slide_path='../data/slides/40A.tif', mask_path='../data/masks/40A_M.tif', coord=(61329, 26868), whiteness=43.99566650390625),\n",
       " _Data(slide_path='../data/slides/18A.tif', mask_path='../data/masks/18A_M.tif', coord=(106043, 28018), whiteness=90.78102111816406),\n",
       " _Data(slide_path='../data/slides/44A.tif', mask_path='../data/masks/44A_M.tif', coord=(147400, 14755), whiteness=99.85084533691406),\n",
       " _Data(slide_path='../data/slides/46.tif', mask_path='../data/masks/46_M.tif', coord=(97106, 20593), whiteness=20.374298095703125),\n",
       " _Data(slide_path='../data/slides/4.tif', mask_path='../data/masks/4_M.tif', coord=(98292, 26762), whiteness=14.082717895507812),\n",
       " _Data(slide_path='../data/slides/67.tif', mask_path='../data/masks/67_M.tif', coord=(66457, 54516), whiteness=100.0),\n",
       " _Data(slide_path='../data/slides/14A.tif', mask_path='../data/masks/14A_M.tif', coord=(35345, 58433), whiteness=6.9561004638671875),\n",
       " _Data(slide_path='../data/slides/22A.tif', mask_path='../data/masks/22A_M.tif', coord=(97202, 70360), whiteness=84.95597839355469),\n",
       " _Data(slide_path='../data/slides/26.tif', mask_path='../data/masks/26_M.tif', coord=(47521, 51010), whiteness=0.0),\n",
       " _Data(slide_path='../data/slides/51.tif', mask_path='../data/masks/51_M.tif', coord=(34693, 40435), whiteness=100.0),\n",
       " _Data(slide_path='../data/slides/38.tif', mask_path='../data/masks/38_M.tif', coord=(77700, 63176), whiteness=0.0),\n",
       " _Data(slide_path='../data/slides/15A.tif', mask_path='../data/masks/15A_M.tif', coord=(80066, 26880), whiteness=85.06965637207031),\n",
       " _Data(slide_path='../data/slides/28.tif', mask_path='../data/masks/28_M.tif', coord=(112804, 39135), whiteness=0.0),\n",
       " _Data(slide_path='../data/slides/37A.tif', mask_path='../data/masks/37A_M.tif', coord=(87305, 26379), whiteness=2.0282745361328125),\n",
       " _Data(slide_path='../data/slides/7.tif', mask_path='../data/masks/7_M.tif', coord=(111229, 45332), whiteness=16.462326049804688),\n",
       " _Data(slide_path='../data/slides/2A.tif', mask_path='../data/masks/2A_M.tif', coord=(72447, 9278), whiteness=100.0),\n",
       " _Data(slide_path='../data/slides/15A.tif', mask_path='../data/masks/15A_M.tif', coord=(84505, 23264), whiteness=0.0),\n",
       " _Data(slide_path='../data/slides/25.tif', mask_path='../data/masks/25_M.tif', coord=(85010, 45178), whiteness=28.116607666015625),\n",
       " _Data(slide_path='../data/slides/43A.tif', mask_path='../data/masks/43A_M.tif', coord=(140236, 45925), whiteness=0.0),\n",
       " _Data(slide_path='../data/slides/23.tif', mask_path='../data/masks/23_M.tif', coord=(47366, 36849), whiteness=59.61112976074219),\n",
       " _Data(slide_path='../data/slides/99.tif', mask_path='../data/masks/99_M.tif', coord=(82905, 19467), whiteness=32.550811767578125),\n",
       " _Data(slide_path='../data/slides/12.tif', mask_path='../data/masks/12_M.tif', coord=(124128, 54566), whiteness=69.90165710449219),\n",
       " _Data(slide_path='../data/slides/5.tif', mask_path='../data/masks/5_M.tif', coord=(118762, 58865), whiteness=71.60797119140625),\n",
       " _Data(slide_path='../data/slides/84.tif', mask_path='../data/masks/84_M.tif', coord=(55298, 20623), whiteness=49.70550537109375),\n",
       " _Data(slide_path='../data/slides/61.tif', mask_path='../data/masks/61_M.tif', coord=(53039, 54830), whiteness=0.0),\n",
       " _Data(slide_path='../data/slides/37A.tif', mask_path='../data/masks/37A_M.tif', coord=(103798, 33617), whiteness=33.834075927734375),\n",
       " _Data(slide_path='../data/slides/71.tif', mask_path='../data/masks/71_M.tif', coord=(36605, 38282), whiteness=97.90458679199219),\n",
       " _Data(slide_path='../data/slides/92.tif', mask_path='../data/masks/92_M.tif', coord=(63810, 66309), whiteness=100.0),\n",
       " _Data(slide_path='../data/slides/4A.tif', mask_path='../data/masks/4A_M.tif', coord=(110088, 19063), whiteness=0.0),\n",
       " _Data(slide_path='../data/slides/13A.tif', mask_path='../data/masks/13A_M.tif', coord=(65296, 56800), whiteness=4.2186737060546875),\n",
       " _Data(slide_path='../data/slides/24.tif', mask_path='../data/masks/24_M.tif', coord=(67467, 38717), whiteness=0.0),\n",
       " _Data(slide_path='../data/slides/22A.tif', mask_path='../data/masks/22A_M.tif', coord=(93488, 70756), whiteness=100.0),\n",
       " _Data(slide_path='../data/slides/14.tif', mask_path='../data/masks/14_M.tif', coord=(154319, 60828), whiteness=0.0),\n",
       " _Data(slide_path='../data/slides/43.tif', mask_path='../data/masks/43_M.tif', coord=(49086, 47058), whiteness=61.714935302734375),\n",
       " _Data(slide_path='../data/slides/49A.tif', mask_path='../data/masks/49A_M.tif', coord=(121213, 9842), whiteness=0.0),\n",
       " _Data(slide_path='../data/slides/19.tif', mask_path='../data/masks/19_M.tif', coord=(70292, 47741), whiteness=77.27317810058594),\n",
       " _Data(slide_path='../data/slides/1A.tif', mask_path='../data/masks/1A_M.tif', coord=(21351, 67750), whiteness=0.0),\n",
       " _Data(slide_path='../data/slides/39A.tif', mask_path='../data/masks/39A_M.tif', coord=(95420, 45509), whiteness=31.499481201171875),\n",
       " _Data(slide_path='../data/slides/3.tif', mask_path='../data/masks/3_M.tif', coord=(106424, 31788), whiteness=42.16041564941406),\n",
       " _Data(slide_path='../data/slides/55.tif', mask_path='../data/masks/55_M.tif', coord=(22007, 54143), whiteness=98.00338745117188),\n",
       " _Data(slide_path='../data/slides/82.tif', mask_path='../data/masks/82_M.tif', coord=(61329, 71837), whiteness=0.0),\n",
       " _Data(slide_path='../data/slides/27.tif', mask_path='../data/masks/27_M.tif', coord=(55059, 51864), whiteness=59.218597412109375),\n",
       " _Data(slide_path='../data/slides/29.tif', mask_path='../data/masks/29_M.tif', coord=(42665, 44757), whiteness=0.0),\n",
       " _Data(slide_path='../data/slides/4A.tif', mask_path='../data/masks/4A_M.tif', coord=(131752, 54029), whiteness=42.56935119628906),\n",
       " _Data(slide_path='../data/slides/99.tif', mask_path='../data/masks/99_M.tif', coord=(84081, 18888), whiteness=11.776351928710938),\n",
       " _Data(slide_path='../data/slides/31.tif', mask_path='../data/masks/31_M.tif', coord=(89288, 34182), whiteness=25.15716552734375),\n",
       " _Data(slide_path='../data/slides/37.tif', mask_path='../data/masks/37_M.tif', coord=(117931, 31486), whiteness=0.0),\n",
       " _Data(slide_path='../data/slides/14.tif', mask_path='../data/masks/14_M.tif', coord=(165453, 41619), whiteness=81.37245178222656),\n",
       " _Data(slide_path='../data/slides/47.tif', mask_path='../data/masks/47_M.tif', coord=(41899, 25220), whiteness=0.0),\n",
       " _Data(slide_path='../data/slides/82.tif', mask_path='../data/masks/82_M.tif', coord=(106947, 28484), whiteness=100.0),\n",
       " _Data(slide_path='../data/slides/94.tif', mask_path='../data/masks/94_M.tif', coord=(116025, 62365), whiteness=0.0),\n",
       " _Data(slide_path='../data/slides/33.tif', mask_path='../data/masks/33_M.tif', coord=(83878, 43681), whiteness=53.45268249511719),\n",
       " _Data(slide_path='../data/slides/87.tif', mask_path='../data/masks/87_M.tif', coord=(53638, 25986), whiteness=0.0),\n",
       " _Data(slide_path='../data/slides/39.tif', mask_path='../data/masks/39_M.tif', coord=(70509, 54930), whiteness=23.303604125976562),\n",
       " _Data(slide_path='../data/slides/76.tif', mask_path='../data/masks/76_M.tif', coord=(70310, 31879), whiteness=0.0),\n",
       " _Data(slide_path='../data/slides/26.tif', mask_path='../data/masks/26_M.tif', coord=(45357, 41387), whiteness=100.0),\n",
       " _Data(slide_path='../data/slides/87.tif', mask_path='../data/masks/87_M.tif', coord=(49971, 51192), whiteness=27.588653564453125),\n",
       " _Data(slide_path='../data/slides/75.tif', mask_path='../data/masks/75_M.tif', coord=(34334, 21066), whiteness=58.88519287109375),\n",
       " _Data(slide_path='../data/slides/44.tif', mask_path='../data/masks/44_M.tif', coord=(111798, 25967), whiteness=0.0),\n",
       " _Data(slide_path='../data/slides/5A.tif', mask_path='../data/masks/5A_M.tif', coord=(143629, 6247), whiteness=78.25660705566406),\n",
       " _Data(slide_path='../data/slides/14.tif', mask_path='../data/masks/14_M.tif', coord=(159570, 30328), whiteness=0.0),\n",
       " _Data(slide_path='../data/slides/40A.tif', mask_path='../data/masks/40A_M.tif', coord=(63947, 45125), whiteness=25.347900390625),\n",
       " _Data(slide_path='../data/slides/44A.tif', mask_path='../data/masks/44A_M.tif', coord=(144726, 2828), whiteness=2.9933929443359375),\n",
       " _Data(slide_path='../data/slides/74.tif', mask_path='../data/masks/74_M.tif', coord=(66314, 57906), whiteness=29.511260986328125),\n",
       " _Data(slide_path='../data/slides/34.tif', mask_path='../data/masks/34_M.tif', coord=(21936, 63460), whiteness=0.0),\n",
       " _Data(slide_path='../data/slides/26A.tif', mask_path='../data/masks/26A_M.tif', coord=(56071, 28421), whiteness=73.81935119628906),\n",
       " _Data(slide_path='../data/slides/61.tif', mask_path='../data/masks/61_M.tif', coord=(60416, 51582), whiteness=81.15692138671875),\n",
       " _Data(slide_path='../data/slides/42.tif', mask_path='../data/masks/42_M.tif', coord=(74994, 30151), whiteness=100.0),\n",
       " _Data(slide_path='../data/slides/13A.tif', mask_path='../data/masks/13A_M.tif', coord=(69129, 43111), whiteness=38.71498107910156),\n",
       " _Data(slide_path='../data/slides/20A.tif', mask_path='../data/masks/20A_M.tif', coord=(65733, 14258), whiteness=64.09034729003906),\n",
       " _Data(slide_path='../data/slides/26A.tif', mask_path='../data/masks/26A_M.tif', coord=(52161, 47089), whiteness=0.03662109375),\n",
       " _Data(slide_path='../data/slides/17A.tif', mask_path='../data/masks/17A_M.tif', coord=(66464, 48476), whiteness=64.14146423339844),\n",
       " _Data(slide_path='../data/slides/29A.tif', mask_path='../data/masks/29A_M.tif', coord=(80612, 11275), whiteness=0.0),\n",
       " _Data(slide_path='../data/slides/17A.tif', mask_path='../data/masks/17A_M.tif', coord=(108663, 34190), whiteness=0.8289337158203125),\n",
       " _Data(slide_path='../data/slides/50.tif', mask_path='../data/masks/50_M.tif', coord=(33357, 22842), whiteness=0.0),\n",
       " _Data(slide_path='../data/slides/83.tif', mask_path='../data/masks/83_M.tif', coord=(95964, 41723), whiteness=28.333663940429688),\n",
       " _Data(slide_path='../data/slides/62.tif', mask_path='../data/masks/62_M.tif', coord=(129383, 48021), whiteness=0.0),\n",
       " _Data(slide_path='../data/slides/37.tif', mask_path='../data/masks/37_M.tif', coord=(112562, 51749), whiteness=48.293304443359375),\n",
       " _Data(slide_path='../data/slides/31.tif', mask_path='../data/masks/31_M.tif', coord=(92498, 27473), whiteness=31.194686889648438),\n",
       " _Data(slide_path='../data/slides/36A.tif', mask_path='../data/masks/36A_M.tif', coord=(137918, 16875), whiteness=37.485504150390625),\n",
       " _Data(slide_path='../data/slides/77.tif', mask_path='../data/masks/77_M.tif', coord=(36492, 29900), whiteness=0.0),\n",
       " _Data(slide_path='../data/slides/43.tif', mask_path='../data/masks/43_M.tif', coord=(43887, 48203), whiteness=21.303558349609375),\n",
       " _Data(slide_path='../data/slides/18A.tif', mask_path='../data/masks/18A_M.tif', coord=(104240, 39717), whiteness=54.308319091796875),\n",
       " _Data(slide_path='../data/slides/52.tif', mask_path='../data/masks/52_M.tif', coord=(37551, 56135), whiteness=12.686538696289062),\n",
       " _Data(slide_path='../data/slides/77.tif', mask_path='../data/masks/77_M.tif', coord=(33547, 33296), whiteness=0.0),\n",
       " _Data(slide_path='../data/slides/68.tif', mask_path='../data/masks/68_M.tif', coord=(66902, 31489), whiteness=72.08290100097656),\n",
       " _Data(slide_path='../data/slides/61.tif', mask_path='../data/masks/61_M.tif', coord=(52260, 72920), whiteness=0.0),\n",
       " _Data(slide_path='../data/slides/8A.tif', mask_path='../data/masks/8A_M.tif', coord=(96150, 27072), whiteness=80.78460693359375),\n",
       " _Data(slide_path='../data/slides/35.tif', mask_path='../data/masks/35_M.tif', coord=(89489, 55972), whiteness=0.0),\n",
       " _Data(slide_path='../data/slides/60.tif', mask_path='../data/masks/60_M.tif', coord=(44459, 52220), whiteness=3.8818359375),\n",
       " _Data(slide_path='../data/slides/24A.tif', mask_path='../data/masks/24A_M.tif', coord=(76839, 36708), whiteness=0.0),\n",
       " _Data(slide_path='../data/slides/91.tif', mask_path='../data/masks/91_M.tif', coord=(61697, 47609), whiteness=89.99900817871094),\n",
       " _Data(slide_path='../data/slides/40A.tif', mask_path='../data/masks/40A_M.tif', coord=(62590, 49141), whiteness=24.51934814453125),\n",
       " _Data(slide_path='../data/slides/52.tif', mask_path='../data/masks/52_M.tif', coord=(49813, 50900), whiteness=53.29856872558594),\n",
       " _Data(slide_path='../data/slides/39A.tif', mask_path='../data/masks/39A_M.tif', coord=(105368, 38578), whiteness=15.392303466796875),\n",
       " _Data(slide_path='../data/slides/24.tif', mask_path='../data/masks/24_M.tif', coord=(72994, 40326), whiteness=42.7947998046875),\n",
       " _Data(slide_path='../data/slides/23.tif', mask_path='../data/masks/23_M.tif', coord=(48167, 37757), whiteness=0.42724609375),\n",
       " _Data(slide_path='../data/slides/62.tif', mask_path='../data/masks/62_M.tif', coord=(117259, 60885), whiteness=100.0),\n",
       " _Data(slide_path='../data/slides/47.tif', mask_path='../data/masks/47_M.tif', coord=(49634, 7838), whiteness=79.35752868652344),\n",
       " _Data(slide_path='../data/slides/19.tif', mask_path='../data/masks/19_M.tif', coord=(78679, 27386), whiteness=46.131134033203125),\n",
       " _Data(slide_path='../data/slides/4A.tif', mask_path='../data/masks/4A_M.tif', coord=(109854, 26714), whiteness=82.64846801757812),\n",
       " _Data(slide_path='../data/slides/42.tif', mask_path='../data/masks/42_M.tif', coord=(79943, 20127), whiteness=100.0),\n",
       " _Data(slide_path='../data/slides/17A.tif', mask_path='../data/masks/17A_M.tif', coord=(73721, 50934), whiteness=0.0),\n",
       " _Data(slide_path='../data/slides/62.tif', mask_path='../data/masks/62_M.tif', coord=(94967, 63454), whiteness=100.0),\n",
       " _Data(slide_path='../data/slides/26A.tif', mask_path='../data/masks/26A_M.tif', coord=(61272, 31718), whiteness=30.453109741210938),\n",
       " _Data(slide_path='../data/slides/80.tif', mask_path='../data/masks/80_M.tif', coord=(116638, 37648), whiteness=100.0),\n",
       " _Data(slide_path='../data/slides/18.tif', mask_path='../data/masks/18_M.tif', coord=(62121, 26340), whiteness=2.90374755859375),\n",
       " _Data(slide_path='../data/slides/19.tif', mask_path='../data/masks/19_M.tif', coord=(71751, 36602), whiteness=0.9006500244140625),\n",
       " _Data(slide_path='../data/slides/25.tif', mask_path='../data/masks/25_M.tif', coord=(87887, 30982), whiteness=0.0),\n",
       " _Data(slide_path='../data/slides/93.tif', mask_path='../data/masks/93_M.tif', coord=(65708, 46663), whiteness=2.416229248046875),\n",
       " _Data(slide_path='../data/slides/26A.tif', mask_path='../data/masks/26A_M.tif', coord=(49444, 41550), whiteness=98.52142333984375),\n",
       " _Data(slide_path='../data/slides/1A.tif', mask_path='../data/masks/1A_M.tif', coord=(16119, 55973), whiteness=60.73036193847656),\n",
       " _Data(slide_path='../data/slides/10A.tif', mask_path='../data/masks/10A_M.tif', coord=(51501, 23983), whiteness=0.0),\n",
       " _Data(slide_path='../data/slides/4.tif', mask_path='../data/masks/4_M.tif', coord=(101356, 46603), whiteness=70.92056274414062),\n",
       " _Data(slide_path='../data/slides/48.tif', mask_path='../data/masks/48_M.tif', coord=(99946, 47874), whiteness=18.927383422851562),\n",
       " _Data(slide_path='../data/slides/63.tif', mask_path='../data/masks/63_M.tif', coord=(43553, 45490), whiteness=100.0),\n",
       " _Data(slide_path='../data/slides/72.tif', mask_path='../data/masks/72_M.tif', coord=(130963, 50360), whiteness=0.0),\n",
       " _Data(slide_path='../data/slides/65.tif', mask_path='../data/masks/65_M.tif', coord=(73124, 53768), whiteness=80.79338073730469),\n",
       " _Data(slide_path='../data/slides/53.tif', mask_path='../data/masks/53_M.tif', coord=(102818, 42392), whiteness=0.0),\n",
       " _Data(slide_path='../data/slides/22.tif', mask_path='../data/masks/22_M.tif', coord=(42472, 59522), whiteness=98.93684387207031),\n",
       " _Data(slide_path='../data/slides/45.tif', mask_path='../data/masks/45_M.tif', coord=(90244, 76862), whiteness=0.0)]"
      ]
     },
     "execution_count": 1164,
     "metadata": {},
     "output_type": "execute_result"
    }
   ],
   "source": [
    "data"
   ]
  },
  {
   "cell_type": "code",
   "execution_count": 1167,
   "metadata": {},
   "outputs": [],
   "source": [
    "indexes = sorted(data, key=lambda item: item.whiteness)"
   ]
  },
  {
   "cell_type": "code",
   "execution_count": 1185,
   "metadata": {},
   "outputs": [],
   "source": [
    "_TLS = local()\n",
    "\n",
    "\n",
    "def tls_prng():\n",
    "    # pylint: disable=no-member\n",
    "    try:\n",
    "        return _TLS.prng\n",
    "    except AttributeError:\n",
    "        _TLS.prng = np.random.RandomState(\n",
    "            (get_ident() + np.random.get_state()[1][0]) % 2**32\n",
    "        )\n",
    "        return _TLS.prng"
   ]
  },
  {
   "cell_type": "code",
   "execution_count": 1206,
   "metadata": {},
   "outputs": [],
   "source": [
    "prng = tls_prng()\n",
    "minx, miny, maxx, maxy = cancer['../data/slides/32.tif'][1][1].bounds\n",
    "p = Point(prng.uniform(minx, maxx)-patch_size[0]*2**zoom, prng.uniform(miny, maxy)-patch_size[0]*2**zoom)"
   ]
  },
  {
   "cell_type": "code",
   "execution_count": 1208,
   "metadata": {},
   "outputs": [
    {
     "data": {
      "text/plain": [
       "[_Data(slide_path='../data/slides/34.tif', mask_path='../data/masks/34_M.tif', coord=(41510, 41807), whiteness=0.0),\n",
       " _Data(slide_path='../data/slides/4A.tif', mask_path='../data/masks/4A_M.tif', coord=(73166, 49379), whiteness=0.0),\n",
       " _Data(slide_path='../data/slides/34A.tif', mask_path='../data/masks/34A_M.tif', coord=(58243, 19683), whiteness=0.0),\n",
       " _Data(slide_path='../data/slides/25A.tif', mask_path='../data/masks/25A_M.tif', coord=(98256, 24059), whiteness=0.0),\n",
       " _Data(slide_path='../data/slides/45.tif', mask_path='../data/masks/45_M.tif', coord=(76048, 36963), whiteness=0.0),\n",
       " _Data(slide_path='../data/slides/47A.tif', mask_path='../data/masks/47A_M.tif', coord=(51497, 19247), whiteness=0.0),\n",
       " _Data(slide_path='../data/slides/59.tif', mask_path='../data/masks/59_M.tif', coord=(19732, 40775), whiteness=0.0),\n",
       " _Data(slide_path='../data/slides/62.tif', mask_path='../data/masks/62_M.tif', coord=(128212, 41073), whiteness=0.0),\n",
       " _Data(slide_path='../data/slides/98.tif', mask_path='../data/masks/98_M.tif', coord=(94289, 29255), whiteness=0.0),\n",
       " _Data(slide_path='../data/slides/34.tif', mask_path='../data/masks/34_M.tif', coord=(21578, 57892), whiteness=0.0),\n",
       " _Data(slide_path='../data/slides/41.tif', mask_path='../data/masks/41_M.tif', coord=(66191, 42433), whiteness=0.0),\n",
       " _Data(slide_path='../data/slides/85.tif', mask_path='../data/masks/85_M.tif', coord=(50980, 19579), whiteness=0.0),\n",
       " _Data(slide_path='../data/slides/55.tif', mask_path='../data/masks/55_M.tif', coord=(26907, 63657), whiteness=0.0),\n",
       " _Data(slide_path='../data/slides/99.tif', mask_path='../data/masks/99_M.tif', coord=(86518, 15666), whiteness=0.0),\n",
       " _Data(slide_path='../data/slides/29.tif', mask_path='../data/masks/29_M.tif', coord=(47205, 42780), whiteness=0.0),\n",
       " _Data(slide_path='../data/slides/69.tif', mask_path='../data/masks/69_M.tif', coord=(47610, 40691), whiteness=0.0),\n",
       " _Data(slide_path='../data/slides/50A.tif', mask_path='../data/masks/50A_M.tif', coord=(140071, 33142), whiteness=0.0),\n",
       " _Data(slide_path='../data/slides/48.tif', mask_path='../data/masks/48_M.tif', coord=(106395, 46336), whiteness=0.0),\n",
       " _Data(slide_path='../data/slides/41A.tif', mask_path='../data/masks/41A_M.tif', coord=(93193, 14948), whiteness=0.0),\n",
       " _Data(slide_path='../data/slides/30A.tif', mask_path='../data/masks/30A_M.tif', coord=(25668, 58849), whiteness=0.0),\n",
       " _Data(slide_path='../data/slides/7A.tif', mask_path='../data/masks/7A_M.tif', coord=(57492, 25477), whiteness=0.0),\n",
       " _Data(slide_path='../data/slides/13A.tif', mask_path='../data/masks/13A_M.tif', coord=(78708, 46776), whiteness=0.0),\n",
       " _Data(slide_path='../data/slides/26.tif', mask_path='../data/masks/26_M.tif', coord=(47521, 51010), whiteness=0.0),\n",
       " _Data(slide_path='../data/slides/38.tif', mask_path='../data/masks/38_M.tif', coord=(77700, 63176), whiteness=0.0),\n",
       " _Data(slide_path='../data/slides/28.tif', mask_path='../data/masks/28_M.tif', coord=(112804, 39135), whiteness=0.0),\n",
       " _Data(slide_path='../data/slides/15A.tif', mask_path='../data/masks/15A_M.tif', coord=(84505, 23264), whiteness=0.0),\n",
       " _Data(slide_path='../data/slides/43A.tif', mask_path='../data/masks/43A_M.tif', coord=(140236, 45925), whiteness=0.0),\n",
       " _Data(slide_path='../data/slides/61.tif', mask_path='../data/masks/61_M.tif', coord=(53039, 54830), whiteness=0.0),\n",
       " _Data(slide_path='../data/slides/4A.tif', mask_path='../data/masks/4A_M.tif', coord=(110088, 19063), whiteness=0.0),\n",
       " _Data(slide_path='../data/slides/24.tif', mask_path='../data/masks/24_M.tif', coord=(67467, 38717), whiteness=0.0),\n",
       " _Data(slide_path='../data/slides/14.tif', mask_path='../data/masks/14_M.tif', coord=(154319, 60828), whiteness=0.0),\n",
       " _Data(slide_path='../data/slides/49A.tif', mask_path='../data/masks/49A_M.tif', coord=(121213, 9842), whiteness=0.0),\n",
       " _Data(slide_path='../data/slides/1A.tif', mask_path='../data/masks/1A_M.tif', coord=(21351, 67750), whiteness=0.0),\n",
       " _Data(slide_path='../data/slides/82.tif', mask_path='../data/masks/82_M.tif', coord=(61329, 71837), whiteness=0.0),\n",
       " _Data(slide_path='../data/slides/29.tif', mask_path='../data/masks/29_M.tif', coord=(42665, 44757), whiteness=0.0),\n",
       " _Data(slide_path='../data/slides/37.tif', mask_path='../data/masks/37_M.tif', coord=(117931, 31486), whiteness=0.0),\n",
       " _Data(slide_path='../data/slides/47.tif', mask_path='../data/masks/47_M.tif', coord=(41899, 25220), whiteness=0.0),\n",
       " _Data(slide_path='../data/slides/94.tif', mask_path='../data/masks/94_M.tif', coord=(116025, 62365), whiteness=0.0),\n",
       " _Data(slide_path='../data/slides/87.tif', mask_path='../data/masks/87_M.tif', coord=(53638, 25986), whiteness=0.0),\n",
       " _Data(slide_path='../data/slides/76.tif', mask_path='../data/masks/76_M.tif', coord=(70310, 31879), whiteness=0.0),\n",
       " _Data(slide_path='../data/slides/44.tif', mask_path='../data/masks/44_M.tif', coord=(111798, 25967), whiteness=0.0),\n",
       " _Data(slide_path='../data/slides/14.tif', mask_path='../data/masks/14_M.tif', coord=(159570, 30328), whiteness=0.0),\n",
       " _Data(slide_path='../data/slides/34.tif', mask_path='../data/masks/34_M.tif', coord=(21936, 63460), whiteness=0.0),\n",
       " _Data(slide_path='../data/slides/29A.tif', mask_path='../data/masks/29A_M.tif', coord=(80612, 11275), whiteness=0.0),\n",
       " _Data(slide_path='../data/slides/50.tif', mask_path='../data/masks/50_M.tif', coord=(33357, 22842), whiteness=0.0),\n",
       " _Data(slide_path='../data/slides/62.tif', mask_path='../data/masks/62_M.tif', coord=(129383, 48021), whiteness=0.0),\n",
       " _Data(slide_path='../data/slides/77.tif', mask_path='../data/masks/77_M.tif', coord=(36492, 29900), whiteness=0.0),\n",
       " _Data(slide_path='../data/slides/77.tif', mask_path='../data/masks/77_M.tif', coord=(33547, 33296), whiteness=0.0),\n",
       " _Data(slide_path='../data/slides/61.tif', mask_path='../data/masks/61_M.tif', coord=(52260, 72920), whiteness=0.0),\n",
       " _Data(slide_path='../data/slides/35.tif', mask_path='../data/masks/35_M.tif', coord=(89489, 55972), whiteness=0.0),\n",
       " _Data(slide_path='../data/slides/24A.tif', mask_path='../data/masks/24A_M.tif', coord=(76839, 36708), whiteness=0.0),\n",
       " _Data(slide_path='../data/slides/17A.tif', mask_path='../data/masks/17A_M.tif', coord=(73721, 50934), whiteness=0.0),\n",
       " _Data(slide_path='../data/slides/25.tif', mask_path='../data/masks/25_M.tif', coord=(87887, 30982), whiteness=0.0),\n",
       " _Data(slide_path='../data/slides/10A.tif', mask_path='../data/masks/10A_M.tif', coord=(51501, 23983), whiteness=0.0),\n",
       " _Data(slide_path='../data/slides/72.tif', mask_path='../data/masks/72_M.tif', coord=(130963, 50360), whiteness=0.0),\n",
       " _Data(slide_path='../data/slides/53.tif', mask_path='../data/masks/53_M.tif', coord=(102818, 42392), whiteness=0.0),\n",
       " _Data(slide_path='../data/slides/45.tif', mask_path='../data/masks/45_M.tif', coord=(90244, 76862), whiteness=0.0),\n",
       " _Data(slide_path='../data/slides/17A.tif', mask_path='../data/masks/17A_M.tif', coord=(103579, 30894), whiteness=0.005340576171875),\n",
       " _Data(slide_path='../data/slides/26A.tif', mask_path='../data/masks/26A_M.tif', coord=(52161, 47089), whiteness=0.03662109375),\n",
       " _Data(slide_path='../data/slides/94.tif', mask_path='../data/masks/94_M.tif', coord=(105620, 54616), whiteness=0.0537872314453125),\n",
       " _Data(slide_path='../data/slides/23.tif', mask_path='../data/masks/23_M.tif', coord=(48167, 37757), whiteness=0.42724609375),\n",
       " _Data(slide_path='../data/slides/17A.tif', mask_path='../data/masks/17A_M.tif', coord=(108663, 34190), whiteness=0.8289337158203125),\n",
       " _Data(slide_path='../data/slides/19.tif', mask_path='../data/masks/19_M.tif', coord=(71751, 36602), whiteness=0.9006500244140625),\n",
       " _Data(slide_path='../data/slides/49A.tif', mask_path='../data/masks/49A_M.tif', coord=(125910, 13473), whiteness=1.0066986083984375),\n",
       " _Data(slide_path='../data/slides/16.tif', mask_path='../data/masks/16_M.tif', coord=(62332, 40956), whiteness=1.446533203125),\n",
       " _Data(slide_path='../data/slides/37A.tif', mask_path='../data/masks/37A_M.tif', coord=(87305, 26379), whiteness=2.0282745361328125),\n",
       " _Data(slide_path='../data/slides/93.tif', mask_path='../data/masks/93_M.tif', coord=(65708, 46663), whiteness=2.416229248046875),\n",
       " _Data(slide_path='../data/slides/93.tif', mask_path='../data/masks/93_M.tif', coord=(55314, 21520), whiteness=2.735137939453125),\n",
       " _Data(slide_path='../data/slides/18.tif', mask_path='../data/masks/18_M.tif', coord=(62121, 26340), whiteness=2.90374755859375),\n",
       " _Data(slide_path='../data/slides/44A.tif', mask_path='../data/masks/44A_M.tif', coord=(144726, 2828), whiteness=2.9933929443359375),\n",
       " _Data(slide_path='../data/slides/11A.tif', mask_path='../data/masks/11A_M.tif', coord=(132470, 13905), whiteness=3.0117034912109375),\n",
       " _Data(slide_path='../data/slides/60.tif', mask_path='../data/masks/60_M.tif', coord=(44459, 52220), whiteness=3.8818359375),\n",
       " _Data(slide_path='../data/slides/13A.tif', mask_path='../data/masks/13A_M.tif', coord=(65296, 56800), whiteness=4.2186737060546875),\n",
       " _Data(slide_path='../data/slides/22A.tif', mask_path='../data/masks/22A_M.tif', coord=(86882, 51830), whiteness=5.8849334716796875),\n",
       " _Data(slide_path='../data/slides/34.tif', mask_path='../data/masks/34_M.tif', coord=(22040, 61754), whiteness=6.5143585205078125),\n",
       " _Data(slide_path='../data/slides/14A.tif', mask_path='../data/masks/14A_M.tif', coord=(35345, 58433), whiteness=6.9561004638671875),\n",
       " _Data(slide_path='../data/slides/48A.tif', mask_path='../data/masks/48A_M.tif', coord=(139233, 51297), whiteness=7.1285247802734375),\n",
       " _Data(slide_path='../data/slides/86.tif', mask_path='../data/masks/86_M.tif', coord=(61825, 48425), whiteness=7.57598876953125),\n",
       " _Data(slide_path='../data/slides/65.tif', mask_path='../data/masks/65_M.tif', coord=(61261, 54685), whiteness=11.261749267578125),\n",
       " _Data(slide_path='../data/slides/37.tif', mask_path='../data/masks/37_M.tif', coord=(113976, 44811), whiteness=11.2945556640625),\n",
       " _Data(slide_path='../data/slides/22A.tif', mask_path='../data/masks/22A_M.tif', coord=(87229, 51492), whiteness=11.719131469726562),\n",
       " _Data(slide_path='../data/slides/99.tif', mask_path='../data/masks/99_M.tif', coord=(84081, 18888), whiteness=11.776351928710938),\n",
       " _Data(slide_path='../data/slides/52.tif', mask_path='../data/masks/52_M.tif', coord=(37551, 56135), whiteness=12.686538696289062),\n",
       " _Data(slide_path='../data/slides/32.tif', mask_path='../data/masks/32_M.tif', coord=(74276, 32957), whiteness=14.023590087890625),\n",
       " _Data(slide_path='../data/slides/4.tif', mask_path='../data/masks/4_M.tif', coord=(98292, 26762), whiteness=14.082717895507812),\n",
       " _Data(slide_path='../data/slides/39A.tif', mask_path='../data/masks/39A_M.tif', coord=(105368, 38578), whiteness=15.392303466796875),\n",
       " _Data(slide_path='../data/slides/7.tif', mask_path='../data/masks/7_M.tif', coord=(111229, 45332), whiteness=16.462326049804688),\n",
       " _Data(slide_path='../data/slides/48.tif', mask_path='../data/masks/48_M.tif', coord=(99946, 47874), whiteness=18.927383422851562),\n",
       " _Data(slide_path='../data/slides/57.tif', mask_path='../data/masks/57_M.tif', coord=(65279, 46281), whiteness=19.15740966796875),\n",
       " _Data(slide_path='../data/slides/46.tif', mask_path='../data/masks/46_M.tif', coord=(97106, 20593), whiteness=20.374298095703125),\n",
       " _Data(slide_path='../data/slides/43.tif', mask_path='../data/masks/43_M.tif', coord=(43887, 48203), whiteness=21.303558349609375),\n",
       " _Data(slide_path='../data/slides/48A.tif', mask_path='../data/masks/48A_M.tif', coord=(139673, 47420), whiteness=22.206497192382812),\n",
       " _Data(slide_path='../data/slides/39.tif', mask_path='../data/masks/39_M.tif', coord=(70509, 54930), whiteness=23.303604125976562),\n",
       " _Data(slide_path='../data/slides/40A.tif', mask_path='../data/masks/40A_M.tif', coord=(62590, 49141), whiteness=24.51934814453125),\n",
       " _Data(slide_path='../data/slides/31.tif', mask_path='../data/masks/31_M.tif', coord=(89288, 34182), whiteness=25.15716552734375),\n",
       " _Data(slide_path='../data/slides/40A.tif', mask_path='../data/masks/40A_M.tif', coord=(63947, 45125), whiteness=25.347900390625),\n",
       " _Data(slide_path='../data/slides/87.tif', mask_path='../data/masks/87_M.tif', coord=(49971, 51192), whiteness=27.588653564453125),\n",
       " _Data(slide_path='../data/slides/25.tif', mask_path='../data/masks/25_M.tif', coord=(85010, 45178), whiteness=28.116607666015625),\n",
       " _Data(slide_path='../data/slides/83.tif', mask_path='../data/masks/83_M.tif', coord=(95964, 41723), whiteness=28.333663940429688),\n",
       " _Data(slide_path='../data/slides/40.tif', mask_path='../data/masks/40_M.tif', coord=(123484, 67695), whiteness=28.91082763671875),\n",
       " _Data(slide_path='../data/slides/74.tif', mask_path='../data/masks/74_M.tif', coord=(66314, 57906), whiteness=29.511260986328125),\n",
       " _Data(slide_path='../data/slides/26A.tif', mask_path='../data/masks/26A_M.tif', coord=(61272, 31718), whiteness=30.453109741210938),\n",
       " _Data(slide_path='../data/slides/31.tif', mask_path='../data/masks/31_M.tif', coord=(92498, 27473), whiteness=31.194686889648438),\n",
       " _Data(slide_path='../data/slides/39A.tif', mask_path='../data/masks/39A_M.tif', coord=(95420, 45509), whiteness=31.499481201171875),\n",
       " _Data(slide_path='../data/slides/11A.tif', mask_path='../data/masks/11A_M.tif', coord=(134404, 12910), whiteness=31.845474243164062),\n",
       " _Data(slide_path='../data/slides/99.tif', mask_path='../data/masks/99_M.tif', coord=(82905, 19467), whiteness=32.550811767578125),\n",
       " _Data(slide_path='../data/slides/24.tif', mask_path='../data/masks/24_M.tif', coord=(71962, 49464), whiteness=33.02192687988281),\n",
       " _Data(slide_path='../data/slides/37A.tif', mask_path='../data/masks/37A_M.tif', coord=(103798, 33617), whiteness=33.834075927734375),\n",
       " _Data(slide_path='../data/slides/48A.tif', mask_path='../data/masks/48A_M.tif', coord=(137310, 50595), whiteness=34.27276611328125),\n",
       " _Data(slide_path='../data/slides/36A.tif', mask_path='../data/masks/36A_M.tif', coord=(137918, 16875), whiteness=37.485504150390625),\n",
       " _Data(slide_path='../data/slides/13A.tif', mask_path='../data/masks/13A_M.tif', coord=(69129, 43111), whiteness=38.71498107910156),\n",
       " _Data(slide_path='../data/slides/3.tif', mask_path='../data/masks/3_M.tif', coord=(106424, 31788), whiteness=42.16041564941406),\n",
       " _Data(slide_path='../data/slides/4A.tif', mask_path='../data/masks/4A_M.tif', coord=(131752, 54029), whiteness=42.56935119628906),\n",
       " _Data(slide_path='../data/slides/24.tif', mask_path='../data/masks/24_M.tif', coord=(72994, 40326), whiteness=42.7947998046875),\n",
       " _Data(slide_path='../data/slides/50.tif', mask_path='../data/masks/50_M.tif', coord=(62939, 13647), whiteness=42.85621643066406),\n",
       " _Data(slide_path='../data/slides/99.tif', mask_path='../data/masks/99_M.tif', coord=(80323, 19286), whiteness=43.05267333984375),\n",
       " _Data(slide_path='../data/slides/85.tif', mask_path='../data/masks/85_M.tif', coord=(51781, 41904), whiteness=43.140411376953125),\n",
       " _Data(slide_path='../data/slides/40A.tif', mask_path='../data/masks/40A_M.tif', coord=(61329, 26868), whiteness=43.99566650390625),\n",
       " _Data(slide_path='../data/slides/30.tif', mask_path='../data/masks/30_M.tif', coord=(57683, 39666), whiteness=45.60508728027344),\n",
       " _Data(slide_path='../data/slides/16A.tif', mask_path='../data/masks/16A_M.tif', coord=(80364, 12823), whiteness=45.769500732421875),\n",
       " _Data(slide_path='../data/slides/19.tif', mask_path='../data/masks/19_M.tif', coord=(78679, 27386), whiteness=46.131134033203125),\n",
       " _Data(slide_path='../data/slides/7.tif', mask_path='../data/masks/7_M.tif', coord=(107573, 57948), whiteness=47.180938720703125),\n",
       " _Data(slide_path='../data/slides/54.tif', mask_path='../data/masks/54_M.tif', coord=(149121, 50077), whiteness=47.67036437988281),\n",
       " _Data(slide_path='../data/slides/11.tif', mask_path='../data/masks/11_M.tif', coord=(104390, 27310), whiteness=47.67723083496094),\n",
       " _Data(slide_path='../data/slides/37.tif', mask_path='../data/masks/37_M.tif', coord=(112562, 51749), whiteness=48.293304443359375),\n",
       " _Data(slide_path='../data/slides/84.tif', mask_path='../data/masks/84_M.tif', coord=(55298, 20623), whiteness=49.70550537109375),\n",
       " _Data(slide_path='../data/slides/95.tif', mask_path='../data/masks/95_M.tif', coord=(50857, 31715), whiteness=49.91264343261719),\n",
       " _Data(slide_path='../data/slides/29.tif', mask_path='../data/masks/29_M.tif', coord=(73892, 38038), whiteness=51.78375244140625),\n",
       " _Data(slide_path='../data/slides/41A.tif', mask_path='../data/masks/41A_M.tif', coord=(82158, 5111), whiteness=52.44026184082031),\n",
       " _Data(slide_path='../data/slides/52.tif', mask_path='../data/masks/52_M.tif', coord=(49813, 50900), whiteness=53.29856872558594),\n",
       " _Data(slide_path='../data/slides/33.tif', mask_path='../data/masks/33_M.tif', coord=(83878, 43681), whiteness=53.45268249511719),\n",
       " _Data(slide_path='../data/slides/90.tif', mask_path='../data/masks/90_M.tif', coord=(124400, 47804), whiteness=53.95164489746094),\n",
       " _Data(slide_path='../data/slides/18A.tif', mask_path='../data/masks/18A_M.tif', coord=(104240, 39717), whiteness=54.308319091796875),\n",
       " _Data(slide_path='../data/slides/50A.tif', mask_path='../data/masks/50A_M.tif', coord=(133544, 28670), whiteness=56.62689208984375),\n",
       " _Data(slide_path='../data/slides/11.tif', mask_path='../data/masks/11_M.tif', coord=(105253, 28364), whiteness=56.771087646484375),\n",
       " _Data(slide_path='../data/slides/75.tif', mask_path='../data/masks/75_M.tif', coord=(34334, 21066), whiteness=58.88519287109375),\n",
       " _Data(slide_path='../data/slides/27.tif', mask_path='../data/masks/27_M.tif', coord=(55059, 51864), whiteness=59.218597412109375),\n",
       " _Data(slide_path='../data/slides/18A.tif', mask_path='../data/masks/18A_M.tif', coord=(105321, 45383), whiteness=59.25941467285156),\n",
       " _Data(slide_path='../data/slides/23.tif', mask_path='../data/masks/23_M.tif', coord=(47366, 36849), whiteness=59.61112976074219),\n",
       " _Data(slide_path='../data/slides/56.tif', mask_path='../data/masks/56_M.tif', coord=(63264, 34304), whiteness=59.6588134765625),\n",
       " _Data(slide_path='../data/slides/16A.tif', mask_path='../data/masks/16A_M.tif', coord=(97429, 15122), whiteness=60.161590576171875),\n",
       " _Data(slide_path='../data/slides/1A.tif', mask_path='../data/masks/1A_M.tif', coord=(16119, 55973), whiteness=60.73036193847656),\n",
       " _Data(slide_path='../data/slides/43.tif', mask_path='../data/masks/43_M.tif', coord=(49086, 47058), whiteness=61.714935302734375),\n",
       " _Data(slide_path='../data/slides/20A.tif', mask_path='../data/masks/20A_M.tif', coord=(65733, 14258), whiteness=64.09034729003906),\n",
       " _Data(slide_path='../data/slides/17A.tif', mask_path='../data/masks/17A_M.tif', coord=(66464, 48476), whiteness=64.14146423339844),\n",
       " _Data(slide_path='../data/slides/63.tif', mask_path='../data/masks/63_M.tif', coord=(25202, 37725), whiteness=64.18228149414062),\n",
       " _Data(slide_path='../data/slides/28.tif', mask_path='../data/masks/28_M.tif', coord=(83363, 50146), whiteness=65.61241149902344),\n",
       " _Data(slide_path='../data/slides/4.tif', mask_path='../data/masks/4_M.tif', coord=(110767, 22729), whiteness=67.51785278320312),\n",
       " _Data(slide_path='../data/slides/6.tif', mask_path='../data/masks/6_M.tif', coord=(57645, 31973), whiteness=69.16389465332031),\n",
       " _Data(slide_path='../data/slides/12.tif', mask_path='../data/masks/12_M.tif', coord=(124128, 54566), whiteness=69.90165710449219),\n",
       " _Data(slide_path='../data/slides/4.tif', mask_path='../data/masks/4_M.tif', coord=(101356, 46603), whiteness=70.92056274414062),\n",
       " _Data(slide_path='../data/slides/5.tif', mask_path='../data/masks/5_M.tif', coord=(118762, 58865), whiteness=71.60797119140625),\n",
       " _Data(slide_path='../data/slides/68.tif', mask_path='../data/masks/68_M.tif', coord=(66902, 31489), whiteness=72.08290100097656),\n",
       " _Data(slide_path='../data/slides/22.tif', mask_path='../data/masks/22_M.tif', coord=(49362, 61626), whiteness=73.00872802734375),\n",
       " _Data(slide_path='../data/slides/26A.tif', mask_path='../data/masks/26A_M.tif', coord=(56071, 28421), whiteness=73.81935119628906),\n",
       " _Data(slide_path='../data/slides/45.tif', mask_path='../data/masks/45_M.tif', coord=(89402, 24189), whiteness=74.32441711425781),\n",
       " _Data(slide_path='../data/slides/23A.tif', mask_path='../data/masks/23A_M.tif', coord=(66927, 35511), whiteness=74.46327209472656),\n",
       " _Data(slide_path='../data/slides/19.tif', mask_path='../data/masks/19_M.tif', coord=(70292, 47741), whiteness=77.27317810058594),\n",
       " _Data(slide_path='../data/slides/5A.tif', mask_path='../data/masks/5A_M.tif', coord=(143629, 6247), whiteness=78.25660705566406),\n",
       " _Data(slide_path='../data/slides/9A.tif', mask_path='../data/masks/9A_M.tif', coord=(73269, 41749), whiteness=78.39279174804688),\n",
       " _Data(slide_path='../data/slides/47.tif', mask_path='../data/masks/47_M.tif', coord=(49634, 7838), whiteness=79.35752868652344),\n",
       " _Data(slide_path='../data/slides/8A.tif', mask_path='../data/masks/8A_M.tif', coord=(96150, 27072), whiteness=80.78460693359375),\n",
       " _Data(slide_path='../data/slides/65.tif', mask_path='../data/masks/65_M.tif', coord=(73124, 53768), whiteness=80.79338073730469),\n",
       " _Data(slide_path='../data/slides/2A.tif', mask_path='../data/masks/2A_M.tif', coord=(119241, 12018), whiteness=80.865478515625),\n",
       " _Data(slide_path='../data/slides/61.tif', mask_path='../data/masks/61_M.tif', coord=(60416, 51582), whiteness=81.15692138671875),\n",
       " _Data(slide_path='../data/slides/14.tif', mask_path='../data/masks/14_M.tif', coord=(165453, 41619), whiteness=81.37245178222656),\n",
       " _Data(slide_path='../data/slides/4A.tif', mask_path='../data/masks/4A_M.tif', coord=(109854, 26714), whiteness=82.64846801757812),\n",
       " _Data(slide_path='../data/slides/22A.tif', mask_path='../data/masks/22A_M.tif', coord=(97202, 70360), whiteness=84.95597839355469),\n",
       " _Data(slide_path='../data/slides/15A.tif', mask_path='../data/masks/15A_M.tif', coord=(80066, 26880), whiteness=85.06965637207031),\n",
       " _Data(slide_path='../data/slides/91.tif', mask_path='../data/masks/91_M.tif', coord=(61697, 47609), whiteness=89.99900817871094),\n",
       " _Data(slide_path='../data/slides/18A.tif', mask_path='../data/masks/18A_M.tif', coord=(106043, 28018), whiteness=90.78102111816406),\n",
       " _Data(slide_path='../data/slides/27.tif', mask_path='../data/masks/27_M.tif', coord=(51331, 25518), whiteness=92.09022521972656),\n",
       " _Data(slide_path='../data/slides/22.tif', mask_path='../data/masks/22_M.tif', coord=(50119, 35429), whiteness=93.609619140625),\n",
       " _Data(slide_path='../data/slides/36.tif', mask_path='../data/masks/36_M.tif', coord=(91941, 39528), whiteness=95.15647888183594),\n",
       " _Data(slide_path='../data/slides/71.tif', mask_path='../data/masks/71_M.tif', coord=(36605, 38282), whiteness=97.90458679199219),\n",
       " _Data(slide_path='../data/slides/55.tif', mask_path='../data/masks/55_M.tif', coord=(22007, 54143), whiteness=98.00338745117188),\n",
       " _Data(slide_path='../data/slides/26A.tif', mask_path='../data/masks/26A_M.tif', coord=(49444, 41550), whiteness=98.52142333984375),\n",
       " _Data(slide_path='../data/slides/5A.tif', mask_path='../data/masks/5A_M.tif', coord=(145876, 11523), whiteness=98.66485595703125),\n",
       " _Data(slide_path='../data/slides/22.tif', mask_path='../data/masks/22_M.tif', coord=(42472, 59522), whiteness=98.93684387207031),\n",
       " _Data(slide_path='../data/slides/44A.tif', mask_path='../data/masks/44A_M.tif', coord=(147400, 14755), whiteness=99.85084533691406),\n",
       " _Data(slide_path='../data/slides/83.tif', mask_path='../data/masks/83_M.tif', coord=(102099, 35736), whiteness=100.0),\n",
       " _Data(slide_path='../data/slides/46.tif', mask_path='../data/masks/46_M.tif', coord=(111801, 23145), whiteness=100.0),\n",
       " _Data(slide_path='../data/slides/16A.tif', mask_path='../data/masks/16A_M.tif', coord=(77626, 11567), whiteness=100.0),\n",
       " _Data(slide_path='../data/slides/66.tif', mask_path='../data/masks/66_M.tif', coord=(84720, 34929), whiteness=100.0),\n",
       " _Data(slide_path='../data/slides/67.tif', mask_path='../data/masks/67_M.tif', coord=(53988, 25961), whiteness=100.0),\n",
       " _Data(slide_path='../data/slides/62.tif', mask_path='../data/masks/62_M.tif', coord=(87024, 82816), whiteness=100.0),\n",
       " _Data(slide_path='../data/slides/6A.tif', mask_path='../data/masks/6A_M.tif', coord=(134343, 32983), whiteness=100.0),\n",
       " _Data(slide_path='../data/slides/67.tif', mask_path='../data/masks/67_M.tif', coord=(66457, 54516), whiteness=100.0),\n",
       " _Data(slide_path='../data/slides/51.tif', mask_path='../data/masks/51_M.tif', coord=(34693, 40435), whiteness=100.0),\n",
       " _Data(slide_path='../data/slides/2A.tif', mask_path='../data/masks/2A_M.tif', coord=(72447, 9278), whiteness=100.0),\n",
       " _Data(slide_path='../data/slides/92.tif', mask_path='../data/masks/92_M.tif', coord=(63810, 66309), whiteness=100.0),\n",
       " _Data(slide_path='../data/slides/22A.tif', mask_path='../data/masks/22A_M.tif', coord=(93488, 70756), whiteness=100.0),\n",
       " _Data(slide_path='../data/slides/82.tif', mask_path='../data/masks/82_M.tif', coord=(106947, 28484), whiteness=100.0),\n",
       " _Data(slide_path='../data/slides/26.tif', mask_path='../data/masks/26_M.tif', coord=(45357, 41387), whiteness=100.0),\n",
       " _Data(slide_path='../data/slides/42.tif', mask_path='../data/masks/42_M.tif', coord=(74994, 30151), whiteness=100.0),\n",
       " _Data(slide_path='../data/slides/62.tif', mask_path='../data/masks/62_M.tif', coord=(117259, 60885), whiteness=100.0),\n",
       " _Data(slide_path='../data/slides/42.tif', mask_path='../data/masks/42_M.tif', coord=(79943, 20127), whiteness=100.0),\n",
       " _Data(slide_path='../data/slides/62.tif', mask_path='../data/masks/62_M.tif', coord=(94967, 63454), whiteness=100.0),\n",
       " _Data(slide_path='../data/slides/80.tif', mask_path='../data/masks/80_M.tif', coord=(116638, 37648), whiteness=100.0),\n",
       " _Data(slide_path='../data/slides/63.tif', mask_path='../data/masks/63_M.tif', coord=(43553, 45490), whiteness=100.0)]"
      ]
     },
     "execution_count": 1208,
     "metadata": {},
     "output_type": "execute_result"
    }
   ],
   "source": [
    "sorted(data, key=lambda item: item.whiteness)"
   ]
  },
  {
   "cell_type": "code",
   "execution_count": 1202,
   "metadata": {},
   "outputs": [],
   "source": [
    "# [el for el in data if el.whiteness==0.0 or el.whiteness>90.0]"
   ]
  },
  {
   "cell_type": "code",
   "execution_count": 1205,
   "metadata": {},
   "outputs": [
    {
     "data": {
      "text/plain": [
       "collections.defaultdict"
      ]
     },
     "execution_count": 1205,
     "metadata": {},
     "output_type": "execute_result"
    }
   ],
   "source": [
    "type(cancer)"
   ]
  },
  {
   "cell_type": "code",
   "execution_count": null,
   "metadata": {},
   "outputs": [],
   "source": []
  }
 ],
 "metadata": {
  "kernelspec": {
   "display_name": "Python 3",
   "language": "python",
   "name": "python3"
  },
  "language_info": {
   "codemirror_mode": {
    "name": "ipython",
    "version": 3
   },
   "file_extension": ".py",
   "mimetype": "text/x-python",
   "name": "python",
   "nbconvert_exporter": "python",
   "pygments_lexer": "ipython3",
   "version": "3.6.7"
  }
 },
 "nbformat": 4,
 "nbformat_minor": 2
}
