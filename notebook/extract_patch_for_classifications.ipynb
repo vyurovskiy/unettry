{
 "cells": [
  {
   "cell_type": "code",
   "execution_count": 1,
   "metadata": {},
   "outputs": [],
   "source": [
    "import os\n",
    "from collections import namedtuple, defaultdict\n",
    "import xml.etree.ElementTree as ET\n",
    "from shapely.geometry import MultiPolygon, Point, Polygon\n",
    "import numpy as np\n",
    "from threading import local, get_ident\n",
    "from time import time\n",
    "import random\n",
    "from tqdm import tqdm\n",
    "\n",
    "from multiprocessing import Process, Queue\n",
    "from multiprocessing.dummy import Pool\n"
   ]
  },
  {
   "cell_type": "code",
   "execution_count": 2,
   "metadata": {},
   "outputs": [],
   "source": [
    "import sys\n",
    "if 'D:\\\\ACDC_LUNG_HISTOPATHOLOGY\\\\ASAP 1.9\\\\bin' not in sys.path:\n",
    "    sys.path.append('D:\\\\ACDC_LUNG_HISTOPATHOLOGY\\\\ASAP 1.9\\\\bin')\n",
    "import multiresolutionimageinterface as mir\n",
    "reader = mir.MultiResolutionImageReader()"
   ]
  },
  {
   "cell_type": "code",
   "execution_count": 3,
   "metadata": {},
   "outputs": [],
   "source": [
    "_SlideInfo=namedtuple('_Slide', ['slide_path', 'mask_path', 'xml_tissue', 'xml_cancer'])\n",
    "_PolygonRaw = namedtuple('_Polygon', ['slide_path', 'coord'])\n",
    "_Polygon=namedtuple('_Polygon', ['slide_path', 'area', 'polygon'])\n",
    "_Data=namedtuple('_Data', ['slide_path', 'coord', 'label'])"
   ]
  },
  {
   "cell_type": "code",
   "execution_count": 4,
   "metadata": {},
   "outputs": [],
   "source": [
    "def get_slideinfo(folder_with_data):\n",
    "    slides_path=folder_with_data+'slides/'\n",
    "    masks_path=folder_with_data+'masks/'\n",
    "    xmls_path=folder_with_data+'annotations/'\n",
    "    for name in os.listdir(slides_path):\n",
    "        yield _SlideInfo(slides_path+name, \n",
    "                     masks_path+name.split('.')[0]+'_M.tif', \n",
    "                     xmls_path+name.split('.')[0]+'_G.xml',\n",
    "                     xmls_path+name.split('.')[0]+'.xml')"
   ]
  },
  {
   "cell_type": "code",
   "execution_count": 5,
   "metadata": {},
   "outputs": [],
   "source": [
    "def get_coordinate(_list, cancer=True):\n",
    "    for el in _list:\n",
    "        if cancer:\n",
    "            xml_file = el.xml_cancer\n",
    "        else:\n",
    "            xml_file=el.xml_tissue\n",
    "        for ann in ET.parse(xml_file).getroot().find('Annotations'):\n",
    "            yx=[(int(float(coord.attrib['Y'])), int(float(coord.attrib['X']))) for coord in ann.find('Coordinates').findall('Coordinate')]\n",
    "            yield _PolygonRaw(el.slide_path, yx)"
   ]
  },
  {
   "cell_type": "code",
   "execution_count": 6,
   "metadata": {},
   "outputs": [],
   "source": [
    "def clear_small_polygon(_list):\n",
    "    for el in _list:\n",
    "        p=Polygon(el.coord)\n",
    "        area=p.area\n",
    "        if area > 1024*1024:\n",
    "            yield _Polygon(el.slide_path, area, p)"
   ]
  },
  {
   "cell_type": "code",
   "execution_count": 7,
   "metadata": {},
   "outputs": [],
   "source": [
    "def get_dict(source_files, cancer=True):\n",
    "    d=defaultdict(list)\n",
    "    for path, area, poly in clear_small_polygon(get_coordinate(source_files, cancer=cancer)):\n",
    "        d[path].append((area, poly))\n",
    "    return d"
   ]
  },
  {
   "cell_type": "code",
   "execution_count": 8,
   "metadata": {},
   "outputs": [],
   "source": [
    "def to_multi(_list):\n",
    "    return MultiPolygon([[p.exterior.coords, []] for _, p in _list]).buffer(0)"
   ]
  },
  {
   "cell_type": "code",
   "execution_count": 9,
   "metadata": {},
   "outputs": [],
   "source": [
    "def subtraction(cancer, tissue):\n",
    "    for k in (set(cancer) & set(tissue)):\n",
    "        gt = tissue[k]\n",
    "        canc = cancer[k]\n",
    "        mp = to_multi(canc)\n",
    "        tmp = ((poly.buffer(5) - mp) for _, poly in gt)\n",
    "        tissue[k] = [(p.area, p) for p in tmp]\n",
    "    return (cancer, tissue)"
   ]
  },
  {
   "cell_type": "code",
   "execution_count": 10,
   "metadata": {},
   "outputs": [],
   "source": [
    "_TLS = local()\n",
    "def tls_prng():\n",
    "    # pylint: disable=no-member\n",
    "    try:\n",
    "        return _TLS.prng\n",
    "    except AttributeError:\n",
    "        _TLS.prng = np.random.RandomState(\n",
    "            (get_ident() + np.random.get_state()[1][0]) % 2**32\n",
    "        )\n",
    "        return _TLS.prng"
   ]
  },
  {
   "cell_type": "code",
   "execution_count": 11,
   "metadata": {},
   "outputs": [],
   "source": [
    "def get_random_point(polygon, number):\n",
    "    prng = tls_prng()\n",
    "\n",
    "    if not polygon.area:\n",
    "        return\n",
    "\n",
    "    minx, miny, maxx, maxy = polygon.bounds\n",
    "    for _ in range(number):\n",
    "        while True:\n",
    "            p = Point(prng.uniform(minx, maxx), prng.uniform(miny, maxy))\n",
    "            if polygon.contains(p):\n",
    "                yield (int(p.coords[0][0]), int(p.coords[0][1]))\n",
    "                break"
   ]
  },
  {
   "cell_type": "code",
   "execution_count": 12,
   "metadata": {},
   "outputs": [],
   "source": [
    "def get_square(point, size):\n",
    "    return Polygon([(point[0]-size/2, point[1]-size/2), \n",
    "                    (point[0]-size/2, point[1]+size/2), \n",
    "                    (point[0]+size/2, point[1]+size/2), \n",
    "                    (point[0]+size/2, point[1]-size/2)])"
   ]
  },
  {
   "cell_type": "code",
   "execution_count": null,
   "metadata": {},
   "outputs": [],
   "source": [
    "slideinfo=list(get_slideinfo('../data/'))\n",
    "np.random.shuffle(slideinfo)\n",
    "train_slideinfo, valid_slideinfo = (slideinfo[:-len(slideinfo) // 10], slideinfo[-len(slideinfo) // 10:])\n",
    "# train_cancer=get_dict(train_slideinfo, cancer=True)\n",
    "# train_tissue=get_dict(train_slideinfo, cancer=False)\n",
    "# valid_cancer=get_dict(valid_slideinfo, cancer=True)\n",
    "# valid_tissue=get_dict(valid_slideinfo, cancer=False)\n",
    "# train_cancer, train_tissue=subtraction(train_cancer, train_tissue)\n",
    "# valid_cancer, valid_tissue=subtraction(valid_cancer, valid_tissue)"
   ]
  },
  {
   "cell_type": "code",
   "execution_count": null,
   "metadata": {},
   "outputs": [],
   "source": [
    "# nbpoints=1500\n",
    "# i=0\n",
    "# while i < nbpoints:\n",
    "#     rnd_slide=random.choice(list(train_cancer))\n",
    "#     rnd_polygon_info=random.choice(train_cancer[rnd_slide])\n",
    "#     rnd_point=list(get_random_point(rnd_polygon_info[1], (256,256), 0, 1))[0]\n",
    "#     square=get_square(rnd_point, 316)\n",
    "#     if rnd_polygon_info[1].contains(square):\n",
    "#         i+=1\n",
    "#         print(rnd_slide, rnd_point)"
   ]
  },
  {
   "cell_type": "code",
   "execution_count": null,
   "metadata": {},
   "outputs": [],
   "source": [
    "_Data=namedtuple('_Data', ['slide_path', 'coord', 'label'])\n",
    "\n",
    "def get_data(_defdict, nbpoints, patch_size, zoom, cancer=True):\n",
    "    np.random.seed(int(time() * 1000) % 2**32)\n",
    "    reader = mir.MultiResolutionImageReader()\n",
    "    for _ in tqdm(range(nbpoints)):\n",
    "        while True:\n",
    "            rnd_slide=random.choice(list(_defdict))\n",
    "            rnd_polygon_info=random.choice(_defdict[rnd_slide])\n",
    "            rnd_point=list(get_random_point(rnd_polygon_info[1], 1))[0]\n",
    "            square=get_square(rnd_point, 316)\n",
    "            if rnd_polygon_info[1].contains(square):\n",
    "                mask = reader.open(rnd_slide.replace('slides', 'masks').replace('.tif', '_M.tif'))\n",
    "                slide=reader.open(rnd_slide)\n",
    "                slide_patch= slide.getUCharPatch(startY=rnd_point[0], startX=rnd_point[1], height=316, width=316, level=zoom)\n",
    "                mask_patch = mask.getUCharPatch(startY=rnd_point[0], startX=rnd_point[1], height=316, width=316, level=zoom)\n",
    "                mask_patch = mask_patch.astype(bool)\n",
    "                values, counts = np.unique(mask_patch, return_counts=True)\n",
    "                if cancer:\n",
    "                    if sum(values * counts) / sum(counts) * 100==100.0 and len(np.unique(slide_patch))>225:\n",
    "                        yield _Data(rnd_slide, rnd_point, 1)\n",
    "                        break\n",
    "                else:\n",
    "                    if sum(values * counts) / sum(counts) * 100==0.0 and len(np.unique(slide_patch))>225:\n",
    "                        yield _Data(rnd_slide, rnd_point, 0)\n",
    "                        break"
   ]
  },
  {
   "cell_type": "code",
   "execution_count": null,
   "metadata": {},
   "outputs": [],
   "source": [
    "train_tissue=list(get_data(train_tissue, 3000, (256,256), 0, False))"
   ]
  },
  {
   "cell_type": "code",
   "execution_count": null,
   "metadata": {},
   "outputs": [],
   "source": [
    "train_cancer=list(get_data(train_cancer, 3000, (256,256), 0, True))"
   ]
  },
  {
   "cell_type": "code",
   "execution_count": null,
   "metadata": {},
   "outputs": [],
   "source": [
    "train_tissue"
   ]
  },
  {
   "cell_type": "code",
   "execution_count": null,
   "metadata": {},
   "outputs": [],
   "source": [
    "train=train_cancer+train_tissue"
   ]
  },
  {
   "cell_type": "code",
   "execution_count": null,
   "metadata": {},
   "outputs": [],
   "source": [
    "len(train)"
   ]
  },
  {
   "cell_type": "code",
   "execution_count": null,
   "metadata": {},
   "outputs": [],
   "source": [
    "random.shuffle(train)"
   ]
  },
  {
   "cell_type": "code",
   "execution_count": null,
   "metadata": {},
   "outputs": [],
   "source": []
  },
  {
   "cell_type": "code",
   "execution_count": null,
   "metadata": {},
   "outputs": [],
   "source": []
  },
  {
   "cell_type": "code",
   "execution_count": 13,
   "metadata": {},
   "outputs": [],
   "source": [
    "def get_data(slideinfo, nbpoints, patch_size, zoom):\n",
    "    np.random.seed(int(time() * 1000) % 2**32)\n",
    "    reader = mir.MultiResolutionImageReader()\n",
    "    cancer=get_dict(slideinfo, cancer=True)\n",
    "    tissue=get_dict(slideinfo, cancer=False)\n",
    "    cancer, tissue=subtraction(cancer, tissue)\n",
    "    for _defdict in (cancer, tissue):\n",
    "        for _ in tqdm(range(nbpoints)):\n",
    "            while True:\n",
    "                rnd_slide=random.choice(list(_defdict))\n",
    "                rnd_polygon_info=random.choice(_defdict[rnd_slide])\n",
    "                rnd_point=list(get_random_point(rnd_polygon_info[1], 1))[0]\n",
    "                square=get_square(rnd_point, 316)\n",
    "                if rnd_polygon_info[1].contains(square):\n",
    "                    mask = reader.open(rnd_slide.replace('slides', 'masks').replace('.tif', '_M.tif'))\n",
    "                    slide=reader.open(rnd_slide)\n",
    "                    slide_patch= slide.getUCharPatch(startY=rnd_point[0], startX=rnd_point[1], height=316, width=316, level=zoom)\n",
    "                    mask_patch = mask.getUCharPatch(startY=rnd_point[0], startX=rnd_point[1], height=316, width=316, level=zoom)\n",
    "                    mask_patch = mask_patch.astype(bool)\n",
    "                    values, counts = np.unique(mask_patch, return_counts=True)\n",
    "                    if cancer and sum(values * counts) / sum(counts) * 100==100.0 and len(np.unique(slide_patch))>225:\n",
    "                        yield _Data(rnd_slide, rnd_point, 1)\n",
    "                        break\n",
    "                    if tissue and sum(values * counts) / sum(counts) * 100==0.0 and len(np.unique(slide_patch))>225:\n",
    "                        yield _Data(rnd_slide, rnd_point, 0)\n",
    "                        break"
   ]
  },
  {
   "cell_type": "code",
   "execution_count": 14,
   "metadata": {},
   "outputs": [
    {
     "name": "stderr",
     "output_type": "stream",
     "text": [
      "100%|██████████████████████████████████████████████████████████████████████████████████████████████████████████| 100/100 [00:03<00:00, 29.18it/s]\n",
      "100%|██████████████████████████████████████████████████████████████████████████████████████████████████████████| 100/100 [00:04<00:00, 21.98it/s]\n"
     ]
    }
   ],
   "source": [
    "slideinfo=list(get_slideinfo('../data/'))\n",
    "np.random.shuffle(slideinfo)\n",
    "train_slideinfo, valid_slideinfo = (slideinfo[:-len(slideinfo) // 10], slideinfo[-len(slideinfo) // 10:])\n",
    "train=list(get_data(train_slideinfo, 100, (256,256), 0))"
   ]
  },
  {
   "cell_type": "code",
   "execution_count": null,
   "metadata": {},
   "outputs": [],
   "source": [
    "import pickle"
   ]
  },
  {
   "cell_type": "code",
   "execution_count": null,
   "metadata": {},
   "outputs": [],
   "source": [
    "with open('../data/train.pickle', 'wb') as f:\n",
    "    pickle.dump(train, f)"
   ]
  },
  {
   "cell_type": "code",
   "execution_count": 15,
   "metadata": {},
   "outputs": [
    {
     "name": "stderr",
     "output_type": "stream",
     "text": [
      "100%|████████████████████████████████████████████████████████████████████████████████████████████████████████████| 10/10 [00:00<00:00, 31.76it/s]\n",
      "100%|████████████████████████████████████████████████████████████████████████████████████████████████████████████| 10/10 [00:00<00:00, 28.15it/s]\n"
     ]
    }
   ],
   "source": [
    "valid=list(get_data(valid_slideinfo, 10, (256,256), 0))"
   ]
  },
  {
   "cell_type": "code",
   "execution_count": null,
   "metadata": {},
   "outputs": [],
   "source": [
    "with open('../data/valid.pickle', 'wb') as f:\n",
    "    pickle.dump(valid, f)"
   ]
  },
  {
   "cell_type": "code",
   "execution_count": 16,
   "metadata": {},
   "outputs": [],
   "source": [
    "from torch.utils.data import Dataset\n",
    "# from ._mir_hook import mir\n",
    "from PIL import Image\n",
    "from torchvision import transforms as T\n",
    "\n",
    "_READER = mir.MultiResolutionImageReader()\n",
    "\n",
    "\n",
    "class TrainDataset(Dataset):\n",
    "    def __init__(self, _list, patch_size, zoom, transform=None):\n",
    "        self._list = _list\n",
    "        self.patch_size = patch_size\n",
    "        self.zoom = zoom\n",
    "        self.transform = transform\n",
    "\n",
    "    def __len__(self):\n",
    "        return len(self._list)\n",
    "\n",
    "    def __getitem__(self, index):\n",
    "        slide = _READER.open(self._list[index].slide_path)\n",
    "        X = slide.getUCharPatch(\n",
    "            startY=self._list[index].coord[0],\n",
    "            startX=self._list[index].coord[1],\n",
    "            height=316,\n",
    "            width=316,\n",
    "            level=self.zoom\n",
    "        )\n",
    "        X = Image.fromarray(X).convert('RGB')\n",
    "        if self.transform is not None:\n",
    "            X = self.transform(X)\n",
    "        else:\n",
    "            X = T.Compose([T.ToTensor()])(X)\n",
    "        Y = self._list[index].label\n",
    "\n",
    "        return X, Y\n"
   ]
  },
  {
   "cell_type": "code",
   "execution_count": 17,
   "metadata": {},
   "outputs": [],
   "source": [
    "t_dataset=TrainDataset(train, (256,256), 0)"
   ]
  },
  {
   "cell_type": "code",
   "execution_count": 18,
   "metadata": {},
   "outputs": [],
   "source": [
    "patch_size=(256,256)\n",
    "transforms = T.Compose(\n",
    "    [\n",
    "        T.RandomVerticalFlip(),\n",
    "        T.RandomHorizontalFlip(),\n",
    "        T.RandomRotation(90, resample=Image.BILINEAR),\n",
    "        T.CenterCrop(patch_size),\n",
    "        T.ToTensor()\n",
    "    ]\n",
    ")"
   ]
  },
  {
   "cell_type": "code",
   "execution_count": 19,
   "metadata": {},
   "outputs": [],
   "source": [
    "train_gen=TrainDataset(train, (256,256), 0, transforms)"
   ]
  },
  {
   "cell_type": "code",
   "execution_count": 22,
   "metadata": {},
   "outputs": [],
   "source": [
    "s1=list(train_gen)[0]"
   ]
  },
  {
   "cell_type": "code",
   "execution_count": null,
   "metadata": {},
   "outputs": [],
   "source": []
  },
  {
   "cell_type": "code",
   "execution_count": null,
   "metadata": {},
   "outputs": [],
   "source": []
  }
 ],
 "metadata": {
  "kernelspec": {
   "display_name": "Python 3",
   "language": "python",
   "name": "python3"
  },
  "language_info": {
   "codemirror_mode": {
    "name": "ipython",
    "version": 3
   },
   "file_extension": ".py",
   "mimetype": "text/x-python",
   "name": "python",
   "nbconvert_exporter": "python",
   "pygments_lexer": "ipython3",
   "version": "3.6.7"
  }
 },
 "nbformat": 4,
 "nbformat_minor": 2
}
