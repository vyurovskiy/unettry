{
 "cells": [
  {
   "cell_type": "code",
   "execution_count": 3,
   "metadata": {},
   "outputs": [],
   "source": [
    "import sys\n",
    "from skimage.io import imread, imshow\n",
    "from PIL import Image\n",
    "import os\n",
    "import numpy as np\n",
    "import cv2\n",
    "import matplotlib.pyplot as plt"
   ]
  },
  {
   "cell_type": "code",
   "execution_count": null,
   "metadata": {},
   "outputs": [],
   "source": [
    "if 'C:/Program Files/ASAP 1.9/bin/' not in sys.path:\n",
    "    sys.path.append('C:/Program Files/ASAP 1.9/bin/')\n",
    "import multiresolutionimageinterface as mir"
   ]
  },
  {
   "cell_type": "code",
   "execution_count": null,
   "metadata": {},
   "outputs": [],
   "source": [
    "originalP='../Data/Originals/1.tif'\n",
    "maskP='../Data/Masks/1_M.tif'"
   ]
  },
  {
   "cell_type": "code",
   "execution_count": null,
   "metadata": {},
   "outputs": [],
   "source": [
    "reader=mir.MultiResolutionImageReader()"
   ]
  },
  {
   "cell_type": "code",
   "execution_count": null,
   "metadata": {},
   "outputs": [],
   "source": [
    "mr_image=reader.open(originalP)"
   ]
  },
  {
   "cell_type": "code",
   "execution_count": null,
   "metadata": {},
   "outputs": [],
   "source": []
  },
  {
   "cell_type": "code",
   "execution_count": null,
   "metadata": {},
   "outputs": [],
   "source": [
    "import openslide"
   ]
  },
  {
   "cell_type": "code",
   "execution_count": null,
   "metadata": {},
   "outputs": [],
   "source": [
    "s1=openslide.OpenSlide(originalP)\n",
    "s2=openslide.OpenSlide(maskP)"
   ]
  },
  {
   "cell_type": "code",
   "execution_count": null,
   "metadata": {},
   "outputs": [],
   "source": [
    "o=s1.read_region(location=(38504-1024,22350-1024), level=0, size=(1024,1024))"
   ]
  },
  {
   "cell_type": "code",
   "execution_count": null,
   "metadata": {},
   "outputs": [],
   "source": [
    "o"
   ]
  },
  {
   "cell_type": "code",
   "execution_count": null,
   "metadata": {},
   "outputs": [],
   "source": [
    "import random\n",
    "r1=random.randint(0,1001)\n",
    "r2=random.randint(0,1001)\n",
    "m=s2.read_region(location=(38504-1024,22350-1024), level=0, size=(1024,1024))"
   ]
  },
  {
   "cell_type": "code",
   "execution_count": null,
   "metadata": {},
   "outputs": [],
   "source": [
    "type(m)"
   ]
  },
  {
   "cell_type": "code",
   "execution_count": null,
   "metadata": {},
   "outputs": [],
   "source": [
    "s=np.argwhere(m[:,:,0]==1)"
   ]
  },
  {
   "cell_type": "code",
   "execution_count": null,
   "metadata": {},
   "outputs": [],
   "source": [
    "imshow(m[:,:,0])"
   ]
  },
  {
   "cell_type": "code",
   "execution_count": null,
   "metadata": {},
   "outputs": [],
   "source": [
    "import random\n",
    "r1=random.randint(0,101)\n",
    "r2=random.randint(0,101)"
   ]
  },
  {
   "cell_type": "code",
   "execution_count": null,
   "metadata": {},
   "outputs": [],
   "source": [
    "import xml.etree.ElementTree\n"
   ]
  },
  {
   "cell_type": "code",
   "execution_count": null,
   "metadata": {},
   "outputs": [],
   "source": [
    "e = xml.etree.ElementTree.parse('../Data/Annotation/1.xml').getroot()"
   ]
  },
  {
   "cell_type": "code",
   "execution_count": null,
   "metadata": {},
   "outputs": [],
   "source": [
    "for atype in e.findall('Annotation'):\n",
    "    print(atype.get('Name'))"
   ]
  },
  {
   "cell_type": "code",
   "execution_count": null,
   "metadata": {},
   "outputs": [],
   "source": [
    "import requests"
   ]
  },
  {
   "cell_type": "code",
   "execution_count": null,
   "metadata": {},
   "outputs": [],
   "source": [
    "import io\n",
    "from bs4 import BeautifulSoup\n",
    "import xml.etree.ElementTree as ET"
   ]
  },
  {
   "cell_type": "code",
   "execution_count": null,
   "metadata": {},
   "outputs": [],
   "source": [
    "f=io.open('../Data/Annotation/1.xml', mode='r', encoding='utf-8')"
   ]
  },
  {
   "cell_type": "code",
   "execution_count": null,
   "metadata": {},
   "outputs": [],
   "source": [
    "f=f.read()"
   ]
  },
  {
   "cell_type": "code",
   "execution_count": null,
   "metadata": {},
   "outputs": [],
   "source": []
  },
  {
   "cell_type": "code",
   "execution_count": null,
   "metadata": {},
   "outputs": [],
   "source": [
    "\n"
   ]
  },
  {
   "cell_type": "code",
   "execution_count": null,
   "metadata": {},
   "outputs": [],
   "source": []
  },
  {
   "cell_type": "code",
   "execution_count": null,
   "metadata": {},
   "outputs": [],
   "source": [
    "tree = ET.parse('../Data/Annotation/1.xml')\n",
    "root=tree.getroot()"
   ]
  },
  {
   "cell_type": "code",
   "execution_count": null,
   "metadata": {},
   "outputs": [],
   "source": [
    "for child in root:\n",
    "    print(child.tag, child.attrib)"
   ]
  },
  {
   "cell_type": "code",
   "execution_count": null,
   "metadata": {},
   "outputs": [],
   "source": [
    "c=[elem.attrib for elem in root.iter() if 'X' in elem.attrib]\n",
    "c=np.random.choice(c,1)"
   ]
  },
  {
   "cell_type": "code",
   "execution_count": null,
   "metadata": {},
   "outputs": [],
   "source": [
    "x=int(c[0]['X'])\n",
    "y=int(c[0]['Y'])"
   ]
  },
  {
   "cell_type": "code",
   "execution_count": null,
   "metadata": {},
   "outputs": [],
   "source": [
    "[elem.findall('X') for elem in root.iter()]"
   ]
  },
  {
   "cell_type": "code",
   "execution_count": 981,
   "metadata": {},
   "outputs": [],
   "source": [
    "originalP='../Data/Originals/'\n",
    "masksP='../Data/Masks/'\n",
    "annotationP='../Data/Annotation/'\n",
    "\n",
    "def getTrainData(originalP, masksP, annotationP, k):\n",
    "    s=[]\n",
    "    listnames=[name.split('.')[0] for name in os.listdir(originalP)]\n",
    "    for name in listnames:\n",
    "        d={'originalP':originalP+name+'.tif',\n",
    "           'masksP':masksP+name+'_M.tif',\n",
    "           'annotationP':annotationP+name+'.xml'}\n",
    "        s.append(d)\n",
    "    return(list(np.random.choice(s, k)))"
   ]
  },
  {
   "cell_type": "code",
   "execution_count": 1168,
   "metadata": {},
   "outputs": [],
   "source": [
    "t=getTrainData(originalP, masksP, annotationP, 10)"
   ]
  },
  {
   "cell_type": "code",
   "execution_count": 1169,
   "metadata": {},
   "outputs": [],
   "source": [
    "from torch.utils.data import Dataset\n",
    "from torchvision import transforms as T\n",
    "import xml.etree.ElementTree as ET\n",
    "import sys\n",
    "\n",
    "from PIL import ImageFilter"
   ]
  },
  {
   "cell_type": "code",
   "execution_count": 1170,
   "metadata": {},
   "outputs": [],
   "source": [
    "class CancerDataset(Dataset):\n",
    "    def __init__(self, listofP, patch_size, image_aug=None, mask_aug=None):\n",
    "        self.listofP=listofP\n",
    "        self.patch_size=patch_size\n",
    "        self.image_aug=image_aug\n",
    "        self.mask_aug=mask_aug\n",
    "        \n",
    "    def __len__(self):\n",
    "        return(len(self.listofP))\n",
    "    \n",
    "    def __getitem__(self, index):\n",
    "        X,Y=self.getXY(index)\n",
    "        image, mask=self.getImages(X,Y,index)\n",
    "        \n",
    "#         return(image, mask)\n",
    "\n",
    "        if self.image_aug is not None:\n",
    "            image=self.image_aug(image)\n",
    "        else:\n",
    "            image=T.Compose([T.ToTensor()])(image)\n",
    "        if self.mask_aug is not None:\n",
    "            mask=self.mask_aug(masks)\n",
    "        else:\n",
    "            mask=T.Compose([T.ToTensor()])(mask)\n",
    "        return(image.float(), mask.float())\n",
    "        \n",
    "    def getImages(self, X, Y, index):\n",
    "        if 'C:/Program Files/ASAP 1.9/bin/' not in sys.path:\n",
    "            sys.path.append('C:/Program Files/ASAP 1.9/bin/')\n",
    "        import multiresolutionimageinterface as mir\n",
    "        reader=mir.MultiResolutionImageReader()\n",
    "        image=reader.open(self.listofP[index]['originalP'])\n",
    "        import openslide\n",
    "        slide=openslide.OpenSlide(self.listofP[index]['originalP'])\n",
    "        mask=openslide.OpenSlide(self.listofP[index]['masksP'])\n",
    "        slide_r=slide.read_region(location=(X-self.patch_size[0]//2,Y+self.patch_size[1]//2), level=0, size=self.patch_size)\n",
    "        mask_r=mask.read_region(location=(X-self.patch_size[0]//2,Y+self.patch_size[1]//2), level=0, size=self.patch_size)\n",
    "        mask_r=np.array(mask_r)\n",
    "        mask_r=mask_r[:,:,0]\n",
    "        mask_r=Image.fromarray(np.uint8(mask_r)*255)\n",
    "        \n",
    "#         slide_r = slide_r.filter(ImageFilter.BLUR)\n",
    "                \n",
    "        return(slide_r, mask_r)\n",
    "    \n",
    "    def getXY(self, index):\n",
    "        path=self.listofP[index]['annotationP']\n",
    "        tree=ET.parse(path)\n",
    "        root=tree.getroot()\n",
    "        coordinates=[elem.attrib for elem in root.iter() if 'X' in elem.attrib]\n",
    "        coordinates=np.random.choice(coordinates, 1)\n",
    "        X=int(float(coordinates[0]['X']))\n",
    "        Y=int(float(coordinates[0]['Y']))\n",
    "        return(X,Y)"
   ]
  },
  {
   "cell_type": "code",
   "execution_count": 1171,
   "metadata": {},
   "outputs": [],
   "source": [
    "gen=CancerDataset(t, (300,300))"
   ]
  },
  {
   "cell_type": "code",
   "execution_count": 1175,
   "metadata": {},
   "outputs": [],
   "source": [
    "g=gen[1]"
   ]
  },
  {
   "cell_type": "code",
   "execution_count": 1176,
   "metadata": {},
   "outputs": [
    {
     "data": {
      "text/plain": [
       "tensor([[[0.9373, 0.9373, 0.9412,  ..., 0.9529, 0.9569, 0.9529],\n",
       "         [0.9412, 0.9412, 0.9412,  ..., 0.9529, 0.9608, 0.9569],\n",
       "         [0.9412, 0.9412, 0.9451,  ..., 0.9451, 0.9529, 0.9529],\n",
       "         ...,\n",
       "         [0.9569, 0.9569, 0.9608,  ..., 0.9647, 0.9608, 0.9490],\n",
       "         [0.9529, 0.9529, 0.9490,  ..., 0.9647, 0.9608, 0.9529],\n",
       "         [0.9529, 0.9529, 0.9451,  ..., 0.9647, 0.9647, 0.9569]],\n",
       "\n",
       "        [[0.9569, 0.9569, 0.9569,  ..., 0.9608, 0.9647, 0.9608],\n",
       "         [0.9529, 0.9529, 0.9569,  ..., 0.9608, 0.9686, 0.9647],\n",
       "         [0.9569, 0.9569, 0.9608,  ..., 0.9569, 0.9647, 0.9647],\n",
       "         ...,\n",
       "         [0.9608, 0.9608, 0.9647,  ..., 0.9725, 0.9686, 0.9569],\n",
       "         [0.9529, 0.9569, 0.9529,  ..., 0.9725, 0.9686, 0.9569],\n",
       "         [0.9569, 0.9569, 0.9490,  ..., 0.9686, 0.9686, 0.9608]],\n",
       "\n",
       "        [[0.9373, 0.9373, 0.9373,  ..., 0.9490, 0.9529, 0.9490],\n",
       "         [0.9569, 0.9569, 0.9569,  ..., 0.9490, 0.9569, 0.9529],\n",
       "         [0.9647, 0.9647, 0.9647,  ..., 0.9451, 0.9529, 0.9529],\n",
       "         ...,\n",
       "         [0.9412, 0.9412, 0.9490,  ..., 0.9529, 0.9490, 0.9412],\n",
       "         [0.9333, 0.9373, 0.9373,  ..., 0.9529, 0.9490, 0.9451],\n",
       "         [0.9373, 0.9373, 0.9333,  ..., 0.9490, 0.9529, 0.9490]],\n",
       "\n",
       "        [[1.0000, 1.0000, 1.0000,  ..., 1.0000, 1.0000, 1.0000],\n",
       "         [1.0000, 1.0000, 1.0000,  ..., 1.0000, 1.0000, 1.0000],\n",
       "         [1.0000, 1.0000, 1.0000,  ..., 1.0000, 1.0000, 1.0000],\n",
       "         ...,\n",
       "         [1.0000, 1.0000, 1.0000,  ..., 1.0000, 1.0000, 1.0000],\n",
       "         [1.0000, 1.0000, 1.0000,  ..., 1.0000, 1.0000, 1.0000],\n",
       "         [1.0000, 1.0000, 1.0000,  ..., 1.0000, 1.0000, 1.0000]]])"
      ]
     },
     "execution_count": 1176,
     "metadata": {},
     "output_type": "execute_result"
    }
   ],
   "source": [
    "g[0]"
   ]
  },
  {
   "cell_type": "code",
   "execution_count": 1177,
   "metadata": {},
   "outputs": [
    {
     "data": {
      "text/plain": [
       "tensor([[[0., 0., 0.,  ..., 0., 0., 0.],\n",
       "         [0., 0., 0.,  ..., 0., 0., 0.],\n",
       "         [0., 0., 0.,  ..., 0., 0., 0.],\n",
       "         ...,\n",
       "         [0., 0., 0.,  ..., 0., 0., 0.],\n",
       "         [0., 0., 0.,  ..., 0., 0., 0.],\n",
       "         [0., 0., 0.,  ..., 0., 0., 0.]]])"
      ]
     },
     "execution_count": 1177,
     "metadata": {},
     "output_type": "execute_result"
    }
   ],
   "source": [
    "g[1]"
   ]
  },
  {
   "cell_type": "code",
   "execution_count": null,
   "metadata": {},
   "outputs": [],
   "source": []
  },
  {
   "cell_type": "code",
   "execution_count": null,
   "metadata": {},
   "outputs": [],
   "source": []
  },
  {
   "cell_type": "code",
   "execution_count": null,
   "metadata": {},
   "outputs": [],
   "source": []
  },
  {
   "cell_type": "code",
   "execution_count": null,
   "metadata": {},
   "outputs": [],
   "source": []
  },
  {
   "cell_type": "code",
   "execution_count": null,
   "metadata": {},
   "outputs": [],
   "source": []
  }
 ],
 "metadata": {
  "kernelspec": {
   "display_name": "Python 3",
   "language": "python",
   "name": "python3"
  },
  "language_info": {
   "codemirror_mode": {
    "name": "ipython",
    "version": 3
   },
   "file_extension": ".py",
   "mimetype": "text/x-python",
   "name": "python",
   "nbconvert_exporter": "python",
   "pygments_lexer": "ipython3",
   "version": "3.6.7"
  }
 },
 "nbformat": 4,
 "nbformat_minor": 2
}
