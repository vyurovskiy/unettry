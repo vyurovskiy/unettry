{
 "cells": [
  {
   "cell_type": "code",
   "execution_count": null,
   "metadata": {},
   "outputs": [],
   "source": [
    "import sys\n",
    "from PIL import Image\n",
    "from skimage.io import imshow\n",
    "import numpy as np\n",
    "import cv2\n",
    "from skimage.filters import threshold_mean\n",
    "import matplotlib.pyplot as plt"
   ]
  },
  {
   "cell_type": "code",
   "execution_count": null,
   "metadata": {},
   "outputs": [],
   "source": [
    "if 'D:\\\\ACDC_LUNG_HISTOPATHOLOGY\\\\ASAP 1.9\\\\bin' not in sys.path:\n",
    "    sys.path.append('D:\\\\ACDC_LUNG_HISTOPATHOLOGY\\\\ASAP 1.9\\\\bin')\n",
    "import multiresolutionimageinterface as mir "
   ]
  },
  {
   "cell_type": "code",
   "execution_count": null,
   "metadata": {},
   "outputs": [],
   "source": [
    "slide_path='../data/slides/32.tif'"
   ]
  },
  {
   "cell_type": "code",
   "execution_count": null,
   "metadata": {},
   "outputs": [],
   "source": [
    "reader=mir.MultiResolutionImageReader()\n",
    "slide=reader.open(slide_path)\n",
    "w,h=slide.getDimensions()\n",
    "patch_size=512\n",
    "zoom=1"
   ]
  },
  {
   "cell_type": "code",
   "execution_count": null,
   "metadata": {},
   "outputs": [],
   "source": [
    "slide_patch=slide.getFloatPatch(1949, 60126, 1024, 1024, 1)\n",
    "slide_patch=slide_patch.astype('uint8')\n",
    "slide_patch = Image.fromarray(slide_patch).convert('RGB')"
   ]
  },
  {
   "cell_type": "code",
   "execution_count": null,
   "metadata": {},
   "outputs": [],
   "source": [
    "slide_patch"
   ]
  },
  {
   "cell_type": "code",
   "execution_count": null,
   "metadata": {},
   "outputs": [],
   "source": [
    "slide_patch=slide.getFloatPatch(int(1949-1024/2*2**1), int(60126-1024/2*2**1), 1024, 1024, 1)\n",
    "slide_patch=slide_patch.astype('uint8')\n",
    "slide_patch = Image.fromarray(slide_patch).convert('RGB')"
   ]
  },
  {
   "cell_type": "code",
   "execution_count": null,
   "metadata": {},
   "outputs": [],
   "source": [
    "slide_patch"
   ]
  },
  {
   "cell_type": "code",
   "execution_count": null,
   "metadata": {},
   "outputs": [],
   "source": [
    "slide_patch=slide.getFloatPatch(0,53300+512*4,512,512,2)\n",
    "slide_patch=slide_patch.astype('uint8')\n",
    "slide_patch = Image.fromarray(slide_patch).convert('RGB')"
   ]
  },
  {
   "cell_type": "code",
   "execution_count": null,
   "metadata": {},
   "outputs": [],
   "source": [
    "slide_patch"
   ]
  },
  {
   "cell_type": "code",
   "execution_count": null,
   "metadata": {},
   "outputs": [],
   "source": [
    "slide_patch=slide.getFloatPatch(0,53300+512*4+512*4,512,512,2)\n",
    "slide_patch=slide_patch.astype('uint8')\n",
    "slide_patch = Image.fromarray(slide_patch).convert('RGB')"
   ]
  },
  {
   "cell_type": "code",
   "execution_count": null,
   "metadata": {},
   "outputs": [],
   "source": [
    "slide_patch"
   ]
  },
  {
   "cell_type": "code",
   "execution_count": null,
   "metadata": {},
   "outputs": [],
   "source": [
    "w//512*512*2"
   ]
  },
  {
   "cell_type": "code",
   "execution_count": null,
   "metadata": {},
   "outputs": [],
   "source": [
    "h"
   ]
  },
  {
   "cell_type": "code",
   "execution_count": null,
   "metadata": {},
   "outputs": [],
   "source": [
    "w"
   ]
  },
  {
   "cell_type": "code",
   "execution_count": null,
   "metadata": {},
   "outputs": [],
   "source": [
    "x, y=np.meshgrid(np.arange(0, w, 512*2**zoom), np.arange(0, h, 512*2**zoom))\n",
    "coord = np.empty(x.shape + (2,))\n",
    "coord[:, :, 0] = y \n",
    "coord[:, :, 1] = x\n",
    "coord=coord.reshape((coord.shape[0]*coord.shape[1],2))\n",
    "coord_bool=np.empty(coord.shape[0], dtype='bool')\n",
    "for i, xy in enumerate(coord):\n",
    "    slide_patch=slide.getFloatPatch(int(xy[0]), int(xy[1]), patch_size, patch_size, zoom)  \n",
    "    thresh = threshold_mean(slide_patch)\n",
    "    binary = slide_patch > thresh\n",
    "    values, counts = np.unique(binary, return_counts=True)\n",
    "    if counts[-1]/sum(counts) > 0.9:\n",
    "        coord_bool[i]=False\n",
    "    else:\n",
    "        coord_bool[i]=True"
   ]
  },
  {
   "cell_type": "code",
   "execution_count": null,
   "metadata": {},
   "outputs": [],
   "source": []
  },
  {
   "cell_type": "code",
   "execution_count": null,
   "metadata": {},
   "outputs": [],
   "source": [
    "for i, xy in enumerate(coord):\n",
    "    slide_patch=slide.getFloatPatch(int(xy[0]), int(xy[1]), patch_size, patch_size, zoom)  "
   ]
  },
  {
   "cell_type": "code",
   "execution_count": null,
   "metadata": {},
   "outputs": [],
   "source": [
    "slide_patch=slide.getFloatPatch(0, 0, patch_size, patch_size, zoom)\n",
    "thresh = threshold_mean(slide_patch)\n",
    "binary = slide_patch > thresh\n",
    "values, counts = np.unique(binary, return_counts=True)\n",
    "if counts[-1]/sum(counts) > 0.95:\n",
    "    \n",
    "slide_patch=slide_patch.astype('uint8')\n",
    "slide_patch = Image.fromarray(slide_patch).convert('RGB')"
   ]
  },
  {
   "cell_type": "code",
   "execution_count": null,
   "metadata": {},
   "outputs": [],
   "source": [
    "counts"
   ]
  },
  {
   "cell_type": "code",
   "execution_count": null,
   "metadata": {},
   "outputs": [],
   "source": [
    "coord_bool.shape"
   ]
  },
  {
   "cell_type": "code",
   "execution_count": null,
   "metadata": {},
   "outputs": [],
   "source": [
    "coord.shape"
   ]
  },
  {
   "cell_type": "code",
   "execution_count": null,
   "metadata": {},
   "outputs": [],
   "source": [
    "i=0"
   ]
  },
  {
   "cell_type": "code",
   "execution_count": null,
   "metadata": {},
   "outputs": [],
   "source": [
    "i+=1\n",
    "xy=coord[np.where(coord_bool==True)][i]\n",
    "slide_patch=slide.getFloatPatch(int(xy[0]), int(xy[1]), patch_size, patch_size, zoom) \n",
    "slide_patch=slide_patch.astype('uint8')\n",
    "slide_patch = Image.fromarray(slide_patch).convert('RGB')"
   ]
  },
  {
   "cell_type": "code",
   "execution_count": null,
   "metadata": {},
   "outputs": [],
   "source": [
    "slide_patch"
   ]
  },
  {
   "cell_type": "code",
   "execution_count": null,
   "metadata": {},
   "outputs": [],
   "source": [
    "from torch.utils.data import Dataset\n",
    "from torchvision import transforms as T"
   ]
  },
  {
   "cell_type": "code",
   "execution_count": null,
   "metadata": {},
   "outputs": [],
   "source": [
    "def gen_test_data(test_path, patch_size, zoom):\n",
    "    reader = mir.MultiResolutionImageReader()\n",
    "    slide = reader.open(test_path)\n",
    "    w, h = slide.getDimensions()\n",
    "    x, y = np.meshgrid(\n",
    "        np.arange(0, w, patch_size[0] * 2**zoom),\n",
    "        np.arange(0, h, patch_size[1] * 2**zoom)\n",
    "    )\n",
    "    coord = np.empty(x.shape + (2, ))\n",
    "    coord[:, :, 0] = y\n",
    "    coord[:, :, 1] = x\n",
    "    # coord=coord.reshape((coord.shape[0]*coord.shape[1],2))\n",
    "    return slide, coord"
   ]
  },
  {
   "cell_type": "code",
   "execution_count": null,
   "metadata": {},
   "outputs": [],
   "source": [
    "class TestDataset(Dataset):\n",
    "    def __init__(self, slide, grid, patch_size, zoom):\n",
    "        self.patch_size=patch_size\n",
    "        self.zoom=zoom\n",
    "        self.slide=slide\n",
    "        self.grid=grid.reshape((grid.shape[0]*grid.shape[1],2))\n",
    "        \n",
    "    def __len__(self):\n",
    "        return len(self.grid)\n",
    "    \n",
    "    def __getitem__(self, index):\n",
    "        slide_patch=self.slide.getFloatPatch(int(self.grid[index][0]), int(self.grid[index][1]), self.patch_size[0], self.patch_size[1], self.zoom)\n",
    "        slide_patch = slide_patch.astype(np.uint8)\n",
    "        slide_patch = Image.fromarray(slide_patch).convert('RGB')\n",
    "        slide_patch = T.ToTensor()(slide_patch)\n",
    "        \n",
    "        return slide_patch.share_memory_()"
   ]
  },
  {
   "cell_type": "code",
   "execution_count": null,
   "metadata": {},
   "outputs": [],
   "source": [
    "slide, grid=gen_test_data('../data/slides/32.tif', (512,512), 1)"
   ]
  },
  {
   "cell_type": "code",
   "execution_count": null,
   "metadata": {},
   "outputs": [],
   "source": [
    "g=TestDataset(slide, grid, (512,512), 1)"
   ]
  },
  {
   "cell_type": "code",
   "execution_count": null,
   "metadata": {},
   "outputs": [],
   "source": []
  },
  {
   "cell_type": "code",
   "execution_count": null,
   "metadata": {},
   "outputs": [],
   "source": []
  },
  {
   "cell_type": "code",
   "execution_count": null,
   "metadata": {},
   "outputs": [],
   "source": [
    "    def __call__(self, *imgs):\n",
    "        \"\"\"\n",
    "            img (PIL Image): Image to be rotated.\n",
    "\n",
    "        Returns:\n",
    "            PIL Image: Rotated image.\n",
    "        \"\"\"\n",
    "\n",
    "        angle = self.get_params(self.degrees)\n",
    "        imgs = tuple(\n",
    "            F.rotate(img, angle, self.resample, self.expand, self.center)\n",
    "            for img in imgs\n",
    "        )\n",
    "\n",
    "        if len(imgs) == 1:\n",
    "            return imgs[0]\n",
    "        return imgs"
   ]
  },
  {
   "cell_type": "code",
   "execution_count": null,
   "metadata": {},
   "outputs": [],
   "source": [
    "slide_patch=slide.getUCharPatch(1949, 60126, 1024, 1024, 1)\n",
    "slide_patch=slide_patch.astype('uint8')\n",
    "slide_patch = Image.fromarray(slide_patch).convert('RGB')"
   ]
  },
  {
   "cell_type": "code",
   "execution_count": null,
   "metadata": {},
   "outputs": [],
   "source": [
    "slide_patch"
   ]
  },
  {
   "cell_type": "code",
   "execution_count": null,
   "metadata": {},
   "outputs": [],
   "source": [
    "import os"
   ]
  },
  {
   "cell_type": "code",
   "execution_count": null,
   "metadata": {},
   "outputs": [],
   "source": [
    "tree=os.walk('../data/')"
   ]
  },
  {
   "cell_type": "code",
   "execution_count": null,
   "metadata": {},
   "outputs": [],
   "source": [
    "tree=list(tree)"
   ]
  },
  {
   "cell_type": "code",
   "execution_count": 250,
   "metadata": {},
   "outputs": [],
   "source": [
    "import os\n",
    "import xml.etree.ElementTree as ET\n",
    "# from _mir_hook import mir\n",
    "from collections import namedtuple\n",
    "import numpy as np\n",
    "from shapely.geometry import Polygon, Point\n",
    "from threading import local, get_ident\n",
    "import random\n",
    "\n",
    "_Slide = namedtuple(\n",
    "    '_Slide',\n",
    "    ['slide_path', 'xml_cancer_path', 'xml_tissue_path', 'mask_path']\n",
    ")\n",
    "\n",
    "_Polygon = namedtuple('_Polygon', ['slide_path', 'name', 'coord'])\n",
    "\n",
    "\n",
    "def get_files(path):\n",
    "    for name in os.listdir(path + 'slides/'):\n",
    "        yield _Slide(\n",
    "            path + 'slides/' + name,\n",
    "            path + 'annotations/' + name.split('.')[0] + '.xml',\n",
    "            path + 'annotations/' + name.split('.')[0] + '_G.xml',\n",
    "            path + 'masks/' + name.split('.')[0] + '_M.tif'\n",
    "        )"
   ]
  },
  {
   "cell_type": "code",
   "execution_count": 251,
   "metadata": {},
   "outputs": [],
   "source": [
    "paths = list(get_files('D:/ACDC_LUNG_HISTOPATHOLOGY/data/'))\n",
    "np.random.shuffle(paths)\n",
    "train_paths, val_paths = (paths[:-len(paths)//10], paths[-len(paths)//10:])"
   ]
  },
  {
   "cell_type": "code",
   "execution_count": 252,
   "metadata": {},
   "outputs": [],
   "source": [
    "def get_coords(_list, cancer=True):\n",
    "    for el in _list:\n",
    "        if cancer:\n",
    "            xml_file=el.xml_cancer_path\n",
    "        else:\n",
    "            xml_file=el.xml_tissue_path\n",
    "        for ann in ET.parse(xml_file).getroot().find('Annotations'):\n",
    "            yx=[(int(float(coord.attrib['Y'])), int(float(coord.attrib['X']))) for coord in ann.find('Coordinates').findall('Coordinate')]\n",
    "            yield _Polygon(el.slide_path, ann.attrib['Name'], yx)"
   ]
  },
  {
   "cell_type": "code",
   "execution_count": 253,
   "metadata": {},
   "outputs": [],
   "source": [
    "def square_normalize(_list):\n",
    "    for el in _list:\n",
    "        if Polygon(el.coord).area>589824:\n",
    "            yield _Polygon(el.slide_path, el.name, el.coord)"
   ]
  },
  {
   "cell_type": "code",
   "execution_count": 254,
   "metadata": {},
   "outputs": [],
   "source": [
    "def get_random_polygon(_list):\n",
    "    return _list[np.random.choice(len(train_coords))]"
   ]
  },
  {
   "cell_type": "code",
   "execution_count": 255,
   "metadata": {},
   "outputs": [],
   "source": [
    "train_coords=list(get_coords(train_paths))\n",
    "train_coords=list(square_normalize(train_coords))\n",
    "\n",
    "val_coords=list(get_coords(val_paths))\n",
    "val_coords=list(square_normalize(val_coords))"
   ]
  },
  {
   "cell_type": "code",
   "execution_count": 266,
   "metadata": {},
   "outputs": [],
   "source": [
    "train_poly=get_random_polygon(train_coords)"
   ]
  },
  {
   "cell_type": "code",
   "execution_count": 268,
   "metadata": {},
   "outputs": [],
   "source": [
    "train_coords=list(get_coords(train_paths))"
   ]
  },
  {
   "cell_type": "raw",
   "metadata": {},
   "source": []
  },
  {
   "cell_type": "code",
   "execution_count": null,
   "metadata": {},
   "outputs": [],
   "source": []
  },
  {
   "cell_type": "code",
   "execution_count": null,
   "metadata": {},
   "outputs": [],
   "source": []
  },
  {
   "cell_type": "code",
   "execution_count": null,
   "metadata": {},
   "outputs": [],
   "source": []
  },
  {
   "cell_type": "code",
   "execution_count": null,
   "metadata": {},
   "outputs": [],
   "source": []
  },
  {
   "cell_type": "code",
   "execution_count": null,
   "metadata": {},
   "outputs": [],
   "source": []
  }
 ],
 "metadata": {
  "kernelspec": {
   "display_name": "Python 3",
   "language": "python",
   "name": "python3"
  },
  "language_info": {
   "codemirror_mode": {
    "name": "ipython",
    "version": 3
   },
   "file_extension": ".py",
   "mimetype": "text/x-python",
   "name": "python",
   "nbconvert_exporter": "python",
   "pygments_lexer": "ipython3",
   "version": "3.6.7"
  }
 },
 "nbformat": 4,
 "nbformat_minor": 2
}
